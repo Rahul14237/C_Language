{
  "nbformat": 4,
  "nbformat_minor": 0,
  "metadata": {
    "colab": {
      "name": "bit_twiddling.ipynb",
      "provenance": [],
      "collapsed_sections": [],
      "authorship_tag": "ABX9TyOIjpaRROzuxAMH9k5xkybt",
      "include_colab_link": true
    },
    "kernelspec": {
      "name": "python3",
      "display_name": "Python 3"
    },
    "language_info": {
      "name": "python"
    }
  },
  "cells": [
    {
      "cell_type": "markdown",
      "metadata": {
        "id": "view-in-github",
        "colab_type": "text"
      },
      "source": [
        "<a href=\"https://colab.research.google.com/github/Rahul14237/C_language/blob/main/bit_twiddling.ipynb\" target=\"_parent\"><img src=\"https://colab.research.google.com/assets/colab-badge.svg\" alt=\"Open In Colab\"/></a>"
      ]
    },
    {
      "cell_type": "code",
      "execution_count": null,
      "metadata": {
        "id": "Ke4VhpLspIm2"
      },
      "outputs": [],
      "source": [
        ""
      ]
    },
    {
      "cell_type": "markdown",
      "source": [
        "1. Sign of the an integer"
      ],
      "metadata": {
        "id": "_xLUq8IFpbRI"
      }
    },
    {
      "cell_type": "code",
      "source": [
        "sign = -(num<0) #// if num<0 then -1 else 0"
      ],
      "metadata": {
        "id": "wb6Ddq0wpfDf"
      },
      "execution_count": null,
      "outputs": []
    },
    {
      "cell_type": "markdown",
      "source": [
        "2. 2. If nums have opposite sign"
      ],
      "metadata": {
        "id": "KhTj9f7npqOA"
      }
    },
    {
      "cell_type": "code",
      "source": [
        "sign = -((num1 ^ num2)<0) #// if num1 and num2 have opposite sign < 0 then -1 else 0"
      ],
      "metadata": {
        "id": "x39sfEngpuJj"
      },
      "execution_count": null,
      "outputs": []
    },
    {
      "cell_type": "markdown",
      "source": [
        "3. **Branching**. A branch is an instruction in a computer program that can cause a computer to begin executing a different instruction sequence and thus deviate from its default behavior of executing instructions in order. Common branching statements include break , continue , return , and goto "
      ],
      "metadata": {
        "id": "f3pjuilgqMSE"
      }
    },
    {
      "cell_type": "markdown",
      "source": [
        "4. Determining if an integer is a power of 2 \n",
        "  \n",
        "  logic: to check 8--> (1000 & 0111) = 0, so & num and num-1 to check"
      ],
      "metadata": {
        "id": "F03_dWQhrUM3"
      }
    },
    {
      "cell_type": "code",
      "source": [
        "result = ((num & (num-1)) == 0) #// result 1: yes num is poer of 2 else no"
      ],
      "metadata": {
        "id": "si4vQO7RrWmj"
      },
      "execution_count": null,
      "outputs": []
    },
    {
      "cell_type": "markdown",
      "source": [
        "5. Counting set bits"
      ],
      "metadata": {
        "id": "aUSl63uTsNJO"
      }
    },
    {
      "cell_type": "code",
      "source": [
        "for(count = 0; num; num >> 1) {\n",
        "    count += num & 1;\n",
        "}"
      ],
      "metadata": {
        "id": "Hf64NN0ZsjER"
      },
      "execution_count": null,
      "outputs": []
    },
    {
      "cell_type": "markdown",
      "source": [
        "6. 6. Compute the even parity \n",
        "        if # 1 == even then parity = 0\n",
        "        else parity = 1"
      ],
      "metadata": {
        "id": "elBJtq7PtDyj"
      }
    },
    {
      "cell_type": "code",
      "source": [
        "uint32_t num;\n",
        "bool parity = false;\n",
        "\n",
        "while(num) {\n",
        "    parity = !parity;\n",
        "    num &= (num - 1); \n",
        "}"
      ],
      "metadata": {
        "id": "N8vezjJCt1Nk"
      },
      "execution_count": null,
      "outputs": []
    },
    {
      "cell_type": "markdown",
      "source": [
        "7. Swapping the nums\n",
        "    -  with addition and substraction\n",
        "    - with XOR"
      ],
      "metadata": {
        "id": "s6RPvzpdvLRW"
      }
    },
    {
      "cell_type": "code",
      "source": [
        "#define SWAP(num1, num2) num1 += num2;\\\n",
        "                         num2 -= num1;\\\n",
        "                         num1 -=  num2;\n",
        "\n",
        "#define SWAP(num1, num2) num1 ^= num2;\\\n",
        "                         num2 ^= num1;\\\n",
        "                         num1 ^= num2;                         "
      ],
      "metadata": {
        "id": "3Vbyv04PvF0y"
      },
      "execution_count": null,
      "outputs": []
    },
    {
      "cell_type": "markdown",
      "source": [
        "8. Reverse the bits"
      ],
      "metadata": {
        "id": "pVP70TGw2_TZ"
      }
    },
    {
      "cell_type": "code",
      "source": [
        "#// Approach 1\n",
        "\n",
        "unsigned int num;     #// input bits to be reversed\n",
        "unsigned int r = num; #// r will be reversed bits of v; first get LSB of v\n",
        "int s = sizeof(num) * CHAR_BIT - 1; #// extra shift needed at end\n",
        "\n",
        "for (num >>= 1; num; num >>= 1)   #//num >>= 1 --> num = num >> 1 --> num is divided by 1 \n",
        "{   \n",
        "  r <<= 1;\n",
        "  r |= num & 1;\n",
        "  s--;\n",
        "}\n",
        "r <<= s; #// shift when num's highest bits are zero\n",
        "\n",
        "\n",
        "#// Approach 2: lookup table\n",
        "\n"
      ],
      "metadata": {
        "id": "CImbFJqG3Cye"
      },
      "execution_count": null,
      "outputs": []
    }
  ]
}