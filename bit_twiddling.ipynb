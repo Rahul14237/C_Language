{
  "nbformat": 4,
  "nbformat_minor": 0,
  "metadata": {
    "colab": {
      "name": "bit_twiddling.ipynb",
      "provenance": [],
      "authorship_tag": "ABX9TyMqDiOIjzXfMNWKOz+JGP6h",
      "include_colab_link": true
    },
    "kernelspec": {
      "name": "python3",
      "display_name": "Python 3"
    },
    "language_info": {
      "name": "python"
    }
  },
  "cells": [
    {
      "cell_type": "markdown",
      "metadata": {
        "id": "view-in-github",
        "colab_type": "text"
      },
      "source": [
        "<a href=\"https://colab.research.google.com/github/Rahul14237/C_language/blob/main/bit_twiddling.ipynb\" target=\"_parent\"><img src=\"https://colab.research.google.com/assets/colab-badge.svg\" alt=\"Open In Colab\"/></a>"
      ]
    },
    {
      "cell_type": "code",
      "execution_count": null,
      "metadata": {
        "id": "Ke4VhpLspIm2"
      },
      "outputs": [],
      "source": [
        ""
      ]
    },
    {
      "cell_type": "markdown",
      "source": [
        "1. Sign of the an integer"
      ],
      "metadata": {
        "id": "_xLUq8IFpbRI"
      }
    },
    {
      "cell_type": "code",
      "source": [
        "sign = -(num<0) #// if num<0 then -1 else 0"
      ],
      "metadata": {
        "id": "wb6Ddq0wpfDf"
      },
      "execution_count": null,
      "outputs": []
    },
    {
      "cell_type": "markdown",
      "source": [
        "2. "
      ],
      "metadata": {
        "id": "KhTj9f7npqOA"
      }
    }
  ]
}