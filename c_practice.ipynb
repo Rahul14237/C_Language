{
  "nbformat": 4,
  "nbformat_minor": 0,
  "metadata": {
    "colab": {
      "name": "c_practice.ipynb",
      "provenance": [],
      "collapsed_sections": [],
      "authorship_tag": "ABX9TyOc4hURIWMIQysSnDcqCdG5",
      "include_colab_link": true
    },
    "kernelspec": {
      "name": "python3",
      "display_name": "Python 3"
    },
    "language_info": {
      "name": "python"
    }
  },
  "cells": [
    {
      "cell_type": "markdown",
      "metadata": {
        "id": "view-in-github",
        "colab_type": "text"
      },
      "source": [
        "<a href=\"https://colab.research.google.com/github/Rahul14237/C_Language/blob/main/c_practice.ipynb\" target=\"_parent\"><img src=\"https://colab.research.google.com/assets/colab-badge.svg\" alt=\"Open In Colab\"/></a>"
      ]
    },
    {
      "cell_type": "markdown",
      "metadata": {
        "id": "KH_7Q_WtcPyo"
      },
      "source": [
        "C practice"
      ]
    },
    {
      "cell_type": "markdown",
      "metadata": {
        "id": "lEqy681ScRIO"
      },
      "source": [
        "1. Problem statement: Given the array nums, for each nums[i] find out how many numbers in the array are smaller than it. That is, for each nums[i] you have to count the number of valid j's such that j's=i and nums[i] < nums[i].\n",
        "Return the answer in an array.\n",
        "Input: nums = [8, 1, 2, 2, 3]\n",
        "Output: [4, 0, 1, 1, 3]\n",
        "\n"
      ]
    },
    {
      "cell_type": "code",
      "metadata": {
        "colab": {
          "base_uri": "https://localhost:8080/"
        },
        "id": "KgscbcjudeNd",
        "outputId": "4bbc0ac0-f078-47b7-ec6f-35f1821590f8"
      },
      "source": [
        "%%writefile min_count_array.c\n",
        "\n",
        "#include <stdio.h>\n",
        "\n",
        "int main() {\n",
        "    int g_nums[] = {8,1,2,2,3};\n",
        "    int g_nums_size = sizeof(g_nums)/sizeof(int);\n",
        "    printf(\"g_nums_size= %d\\n\", g_nums_size);\n",
        "    int g_output[g_nums_size];\n",
        "    \n",
        "    #// iterate through g_nums to get pick one value at a time\n",
        "    for(int min_count_itr = 0; min_count_itr<g_nums_size; min_count_itr++) {\n",
        "        int current_val = g_nums[min_count_itr];\n",
        "        int min_num_counter = 0;\n",
        "        #// iterate trough g_nums to compare current value with all elements in aaray except itself\n",
        "        for(int num_itr = 0; num_itr<g_nums_size; num_itr++) {\n",
        "            if(num_itr == min_count_itr) {\n",
        "                #// Do nothing\n",
        "            }\n",
        "            else if(g_nums[num_itr] < current_val) {\n",
        "                min_num_counter ++;\n",
        "            }\n",
        "            else {\n",
        "                #// Do nothing                \n",
        "            }       \n",
        "        }\n",
        "        g_output[min_count_itr] = min_num_counter;\n",
        "    }\n",
        "\n",
        "    printf(\"output = [\");\n",
        "    for(int itr=0; itr<g_nums_size; itr++) {\n",
        "        printf(\"%d \", g_output[itr]);\n",
        "    }\n",
        "    printf(\"]\");\n",
        "    return 0;\n",
        "}"
      ],
      "execution_count": 73,
      "outputs": [
        {
          "output_type": "stream",
          "text": [
            "Overwriting min_count_array.c\n"
          ],
          "name": "stdout"
        }
      ]
    },
    {
      "cell_type": "code",
      "metadata": {
        "colab": {
          "base_uri": "https://localhost:8080/"
        },
        "id": "Q7ZRnfk8ga-Q",
        "outputId": "82951ab4-ad93-45fc-ff96-81c735d74b7c"
      },
      "source": [
        "ls -l # see the file"
      ],
      "execution_count": 74,
      "outputs": [
        {
          "output_type": "stream",
          "text": [
            "total 20\n",
            "-rwxr-xr-x 1 root root 8408 Aug 20 15:31 \u001b[0m\u001b[01;32mmin_count_array\u001b[0m*\n",
            "-rw-r--r-- 1 root root 1075 Aug 20 15:31 min_count_array.c\n",
            "drwxr-xr-x 1 root root 4096 Aug 13 13:35 \u001b[01;34msample_data\u001b[0m/\n"
          ],
          "name": "stdout"
        }
      ]
    },
    {
      "cell_type": "code",
      "metadata": {
        "colab": {
          "base_uri": "https://localhost:8080/"
        },
        "id": "XO-KZKrIglYJ",
        "outputId": "18e8b77e-37fd-4cf0-ba13-22ae9390d826"
      },
      "source": [
        "%%shell\n",
        "\n",
        "gcc min_count_array.c -o min_count_array\n",
        "./min_count_array"
      ],
      "execution_count": 75,
      "outputs": [
        {
          "output_type": "stream",
          "text": [
            "g_nums_size= 5\n",
            "output = [4 0 1 1 3 ]"
          ],
          "name": "stdout"
        },
        {
          "output_type": "execute_result",
          "data": {
            "text/plain": [
              ""
            ]
          },
          "metadata": {},
          "execution_count": 75
        }
      ]
    },
    {
      "cell_type": "code",
      "metadata": {
        "id": "7QTcI8NfhUgc"
      },
      "source": [
        ""
      ],
      "execution_count": 18,
      "outputs": []
    }
  ]
}