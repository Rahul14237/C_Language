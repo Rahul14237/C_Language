{
  "nbformat": 4,
  "nbformat_minor": 0,
  "metadata": {
    "colab": {
      "name": "c_practice.ipynb",
      "provenance": [],
      "collapsed_sections": [],
      "include_colab_link": true
    },
    "kernelspec": {
      "name": "python3",
      "display_name": "Python 3"
    },
    "language_info": {
      "name": "python"
    }
  },
  "cells": [
    {
      "cell_type": "markdown",
      "metadata": {
        "id": "view-in-github",
        "colab_type": "text"
      },
      "source": [
        "<a href=\"https://colab.research.google.com/github/Rahul14237/C_language/blob/main/c_practice.ipynb\" target=\"_parent\"><img src=\"https://colab.research.google.com/assets/colab-badge.svg\" alt=\"Open In Colab\"/></a>"
      ]
    },
    {
      "cell_type": "markdown",
      "metadata": {
        "id": "KH_7Q_WtcPyo"
      },
      "source": [
        "C practice"
      ]
    },
    {
      "cell_type": "markdown",
      "metadata": {
        "id": "lEqy681ScRIO"
      },
      "source": [
        "1. Problem statement: Given the array nums, for each nums[i] find out how many numbers in the array are smaller than it. That is, for each nums[i] you have to count the number of valid j's such that j!=i and nums[i] < nums[i].\n",
        "Return the answer in an array.\n",
        "Input: nums = [8, 1, 2, 2, 3]\n",
        "Output: [4, 0, 1, 1, 3]\n",
        "\n"
      ]
    },
    {
      "cell_type": "code",
      "metadata": {
        "colab": {
          "base_uri": "https://localhost:8080/"
        },
        "id": "KgscbcjudeNd",
        "outputId": "b3feb49d-b01e-449b-ac49-26c2e4aaa54b"
      },
      "source": [
        "%%writefile min_num_count_array.c\n",
        "\n",
        "#include <stdio.h>\n",
        "\n",
        "int main() {\n",
        "    int g_nums[] = {8,1,2,2,3};\n",
        "    int g_nums_size = sizeof(g_nums)/sizeof(int);\n",
        "    printf(\"g_nums_size= %d\\n\", g_nums_size);\n",
        "    int g_output[g_nums_size];\n",
        "    \n",
        "    #// iterate through g_nums to get pick one value at a time\n",
        "    for(int min_count_itr = 0; min_count_itr<g_nums_size; min_count_itr++) {\n",
        "        int current_val = g_nums[min_count_itr];\n",
        "        int min_num_counter = 0;\n",
        "        #// iterate trough g_nums to compare current value with all elements in aaray except itself\n",
        "        for(int num_itr = 0; num_itr<g_nums_size; num_itr++) {\n",
        "            if(num_itr == min_count_itr) {\n",
        "                #// Do nothing\n",
        "            }\n",
        "            else if(g_nums[num_itr] < current_val) {\n",
        "                min_num_counter ++;\n",
        "            }\n",
        "            else {\n",
        "                #// Do nothing                \n",
        "            }       \n",
        "        }\n",
        "        g_output[min_count_itr] = min_num_counter;\n",
        "    }\n",
        "\n",
        "    printf(\"output = [\");\n",
        "    for(int itr=0; itr<g_nums_size; itr++) {\n",
        "        printf(\"%d \", g_output[itr]);\n",
        "    }\n",
        "    printf(\"]\");\n",
        "    return 0;\n",
        "}"
      ],
      "execution_count": null,
      "outputs": [
        {
          "output_type": "stream",
          "name": "stdout",
          "text": [
            "Writing min_num_count_array.c\n"
          ]
        }
      ]
    },
    {
      "cell_type": "code",
      "metadata": {
        "colab": {
          "base_uri": "https://localhost:8080/"
        },
        "id": "Q7ZRnfk8ga-Q",
        "outputId": "b96a7e1f-4e61-47fc-f045-7a66fa37e3dc"
      },
      "source": [
        "ls -l # see the file"
      ],
      "execution_count": null,
      "outputs": [
        {
          "output_type": "stream",
          "name": "stdout",
          "text": [
            "total 12\n",
            "-rw-r--r-- 1 root root 1003 Oct 13 17:25 bit_reversal.c\n",
            "-rw-r--r-- 1 root root 1076 Oct 13 17:28 min_num_count_array.c\n",
            "drwxr-xr-x 1 root root 4096 Oct  8 13:45 \u001b[0m\u001b[01;34msample_data\u001b[0m/\n"
          ]
        }
      ]
    },
    {
      "cell_type": "code",
      "metadata": {
        "colab": {
          "base_uri": "https://localhost:8080/"
        },
        "id": "XO-KZKrIglYJ",
        "outputId": "7a3bfbaf-872f-40c4-cd10-23caa132eab3"
      },
      "source": [
        "%%shell\n",
        "\n",
        "gcc min_num_count_array.c -o min_num_count_array\n",
        "./min_num_count_array"
      ],
      "execution_count": null,
      "outputs": [
        {
          "output_type": "stream",
          "name": "stdout",
          "text": [
            "g_nums_size= 5\n",
            "output = [4 0 1 1 3 ]"
          ]
        },
        {
          "output_type": "execute_result",
          "data": {
            "text/plain": [
              ""
            ]
          },
          "metadata": {},
          "execution_count": 6
        }
      ]
    },
    {
      "cell_type": "markdown",
      "metadata": {
        "id": "Dt2K2UhojGSd"
      },
      "source": [
        "2. Bit reversal using lookup table.\n",
        "  eg. 0001 1100 --> 0011 1000"
      ]
    },
    {
      "cell_type": "code",
      "metadata": {
        "colab": {
          "base_uri": "https://localhost:8080/"
        },
        "id": "tNyUWhLUkBgz",
        "outputId": "ab776356-ce04-48ec-e1ec-bf1b3982199f"
      },
      "source": [
        "%%writefile bit_reversal.c\n",
        "\n",
        "#include<stdio.h>\n",
        "\n",
        "int main() {\n",
        "    unsigned short int g_bit_reversal_lookup[16] = {\n",
        "        0b0000,\n",
        "        0b1000,\n",
        "        0b0100,\n",
        "        0b1100,\n",
        "        0b0010,\n",
        "        0b1010,\n",
        "        0b0110,\n",
        "        0b1110,\n",
        "        0b0001,\n",
        "        0b1001,\n",
        "        0b0101,\n",
        "        0b1101,\n",
        "        0b0011,\n",
        "        0b1011,\n",
        "        0b0111,\n",
        "        0b1111 };\n",
        "\n",
        "    unsigned short int g_ori_num = 0x1234; \n",
        "    unsigned short int g_bit_rev_num = 0; /* ans: 0x2C48 */\n",
        "\n",
        "    g_bit_rev_num |= (unsigned short int)(g_bit_reversal_lookup[g_ori_num & 0x000F]) << 12;\n",
        "    # //printf(\"The reversed number is: %x\\n\", g_bit_rev_num);\n",
        "    g_bit_rev_num |= (unsigned short int)(g_bit_reversal_lookup[(g_ori_num & 0x00F0) >> 4]) << 8;\n",
        "    # //printf(\"The reversed number is: %x\\n\", g_bit_rev_num);\n",
        "    g_bit_rev_num |= (unsigned short int)(g_bit_reversal_lookup[(g_ori_num & 0x0F00) >> 8]) << 4;\n",
        "    # //printf(\"The reversed number is: %x\\n\", g_bit_rev_num);\n",
        "    g_bit_rev_num |= (unsigned short int)(g_bit_reversal_lookup[(g_ori_num & 0xF000) >> 12]);\n",
        "    printf(\"The reversed number is: %x\\n\", g_bit_rev_num);\n",
        "    return 0;\n",
        "\n",
        "}"
      ],
      "execution_count": null,
      "outputs": [
        {
          "output_type": "stream",
          "name": "stdout",
          "text": [
            "Overwriting bit_reversal.c\n"
          ]
        }
      ]
    },
    {
      "cell_type": "code",
      "metadata": {
        "colab": {
          "base_uri": "https://localhost:8080/"
        },
        "id": "SHN0q2Jyktab",
        "outputId": "8fc3af6c-2240-4cba-aa73-3dc73d5fb430"
      },
      "source": [
        "ls -l # see the file"
      ],
      "execution_count": null,
      "outputs": [
        {
          "output_type": "stream",
          "name": "stdout",
          "text": [
            "total 36\n",
            "-rwxr-xr-x 1 root root 8360 Oct 13 18:13 \u001b[0m\u001b[01;32mbit_reversal\u001b[0m*\n",
            "-rw-r--r-- 1 root root 1088 Oct 13 18:15 bit_reversal.c\n",
            "-rwxr-xr-x 1 root root 8416 Oct 13 17:28 \u001b[01;32mmin_num_count_array\u001b[0m*\n",
            "-rw-r--r-- 1 root root 1076 Oct 13 17:28 min_num_count_array.c\n",
            "drwxr-xr-x 1 root root 4096 Oct  8 13:45 \u001b[01;34msample_data\u001b[0m/\n"
          ]
        }
      ]
    },
    {
      "cell_type": "code",
      "metadata": {
        "colab": {
          "base_uri": "https://localhost:8080/"
        },
        "id": "Dd2qyvWksEpJ",
        "outputId": "4643536d-156f-42ad-ceb9-d88947e574a2"
      },
      "source": [
        "%%shell\n",
        "\n",
        "gcc bit_reversal.c -o bit_reversal\n",
        "./bit_reversal"
      ],
      "execution_count": null,
      "outputs": [
        {
          "output_type": "stream",
          "name": "stdout",
          "text": [
            "The reversed number is: 2c00\n",
            "The reversed number is: 2c40\n",
            "The reversed number is: 2c48\n"
          ]
        },
        {
          "output_type": "execute_result",
          "data": {
            "text/plain": [
              ""
            ]
          },
          "metadata": {},
          "execution_count": 86
        }
      ]
    },
    {
      "cell_type": "markdown",
      "metadata": {
        "id": "DWwKURq86AoK"
      },
      "source": [
        "3. Byte reversal using shiftiing. eg. 0x1234 --> 0x3412"
      ]
    },
    {
      "cell_type": "code",
      "metadata": {
        "id": "qetT4oNH6P5m",
        "colab": {
          "base_uri": "https://localhost:8080/"
        },
        "outputId": "bca450e5-74ef-4466-9ccd-85628fd7bb7f"
      },
      "source": [
        "%%writefile byte_reversal.c\n",
        "\n",
        "#include <stdio.h>\n",
        "\n",
        "int main() {\n",
        "    unsigned int g_ori_num = 0x12345678;\n",
        "    unsigned int g_rev_num = 0;\n",
        "\n",
        "    g_rev_num |= (g_ori_num & 0x000000FF) << 24;\n",
        "    g_rev_num |= (g_ori_num & 0x0000FF00) << 8;\n",
        "    g_rev_num |= (g_ori_num & 0x00FF0000) >> 8;\n",
        "    g_rev_num |= (g_ori_num & 0xFF000000) >> 24;\n",
        "\n",
        "    printf(\"The reversed number is: %x\", g_rev_num);\n",
        "    return 0;\n",
        "\n",
        "}\n"
      ],
      "execution_count": null,
      "outputs": [
        {
          "output_type": "stream",
          "name": "stdout",
          "text": [
            "Writing byte_reversal.c\n"
          ]
        }
      ]
    },
    {
      "cell_type": "code",
      "metadata": {
        "id": "BTSePWQ--wiZ",
        "colab": {
          "base_uri": "https://localhost:8080/"
        },
        "outputId": "b14f6168-114e-4bce-f02e-a43ea7f50401"
      },
      "source": [
        "ls -l"
      ],
      "execution_count": null,
      "outputs": [
        {
          "output_type": "stream",
          "name": "stdout",
          "text": [
            "total 52\n",
            "-rwxr-xr-x 1 root root 8360 Oct 13 18:15 \u001b[0m\u001b[01;32mbit_reversal\u001b[0m*\n",
            "-rw-r--r-- 1 root root 1088 Oct 13 18:15 bit_reversal.c\n",
            "-rwxr-xr-x 1 root root 8312 Oct 13 18:46 \u001b[01;32mbyte_reversal\u001b[0m*\n",
            "-rw-r--r-- 1 root root  372 Oct 13 18:45 byte_reversal.c\n",
            "-rwxr-xr-x 1 root root 8416 Oct 13 17:28 \u001b[01;32mmin_num_count_array\u001b[0m*\n",
            "-rw-r--r-- 1 root root 1076 Oct 13 17:28 min_num_count_array.c\n",
            "drwxr-xr-x 1 root root 4096 Oct  8 13:45 \u001b[01;34msample_data\u001b[0m/\n"
          ]
        }
      ]
    },
    {
      "cell_type": "code",
      "metadata": {
        "id": "30K4ZYqo-bSp",
        "colab": {
          "base_uri": "https://localhost:8080/"
        },
        "outputId": "73f92685-aa0a-4e3d-f3dc-0a601beaf4ed"
      },
      "source": [
        "%%shell\n",
        "\n",
        "gcc byte_reversal.c -o byte_reversal\n",
        "./byte_reversal"
      ],
      "execution_count": null,
      "outputs": [
        {
          "output_type": "stream",
          "name": "stdout",
          "text": [
            "The reversed number is: 78563412"
          ]
        },
        {
          "output_type": "execute_result",
          "data": {
            "text/plain": [
              ""
            ]
          },
          "metadata": {},
          "execution_count": 91
        }
      ]
    },
    {
      "cell_type": "markdown",
      "metadata": {
        "id": "xuv7deM0SUmK"
      },
      "source": [
        "Link: *https://quescol.com/interview-preparation/c-program-to-reverse-a-number*\n",
        "\n",
        "4. Reverse a number. eg. 123 --> 321"
      ]
    },
    {
      "cell_type": "code",
      "metadata": {
        "colab": {
          "base_uri": "https://localhost:8080/"
        },
        "id": "Xf1UxWGBToor",
        "outputId": "88045fb5-8a60-4e75-9526-9d5380cf9e3f"
      },
      "source": [
        "%%writefile num_reversal.c\n",
        "\n",
        "#include<stdio.h> \n",
        "#include<stdint.h>\n",
        "\n",
        "int main() {\n",
        "    uint16_t g_ori_num = 123;\n",
        "    uint16_t g_rev_num = 0;\n",
        "        \n",
        "    while(g_ori_num) {\n",
        "      g_rev_num = g_rev_num * 10 + g_ori_num % 10;\n",
        "      g_ori_num /= 10;\n",
        "      printf(\"the reversed num is %d\\r\\n\", g_rev_num);\n",
        "    }\n",
        "    return 0;\n",
        "}"
      ],
      "execution_count": null,
      "outputs": [
        {
          "output_type": "stream",
          "name": "stdout",
          "text": [
            "Overwriting num_reversal.c\n"
          ]
        }
      ]
    },
    {
      "cell_type": "code",
      "metadata": {
        "colab": {
          "base_uri": "https://localhost:8080/"
        },
        "id": "MKTfFXZnWTjb",
        "outputId": "58ae4488-55bb-4d52-a342-895523db4993"
      },
      "source": [
        "%%shell\n",
        "gcc num_reversal.c -o num_reversal\n",
        "./num_reversal"
      ],
      "execution_count": null,
      "outputs": [
        {
          "output_type": "stream",
          "name": "stdout",
          "text": [
            "the reversed num is 3\r\n",
            "the reversed num is 32\r\n",
            "the reversed num is 321\r\n"
          ]
        },
        {
          "output_type": "execute_result",
          "data": {
            "text/plain": [
              ""
            ]
          },
          "metadata": {},
          "execution_count": 8
        }
      ]
    },
    {
      "cell_type": "markdown",
      "metadata": {
        "id": "azJzolXzX_6w"
      },
      "source": [
        "5. Check num is armstrong/narssistic num or not. eg. 153 is armstrong no.\n",
        "\n",
        "explanation:\n",
        "\n",
        "        no. of digits = 3\n",
        "        so 1^3 + 5^3 + 3^3 = 1 + 125 + 27 = 153"
      ]
    },
    {
      "cell_type": "code",
      "metadata": {
        "colab": {
          "base_uri": "https://localhost:8080/"
        },
        "id": "198QUmtjWotB",
        "outputId": "fbde9a77-54bd-4e78-d0ce-c4100f6f26cb"
      },
      "source": [
        "%%writefile armstrong_num_checker.c\n",
        "\n",
        "#include <stdio.h>\n",
        "#include <stdint.h>\n",
        "#include <math.h>\n",
        "\n",
        "int main() {\n",
        "    int16_t g_ori_num = 153;\n",
        "    uint8_t g_no_of_digits = 0;\n",
        "    int16_t g_ori_num_cpy = g_ori_num;\n",
        "    int16_t g_sum = 0;\n",
        "\n",
        "    # // calculate # digits\n",
        "    while(g_ori_num) {\n",
        "        g_ori_num /= 10;\n",
        "        g_no_of_digits ++;\n",
        "    }\n",
        "    g_ori_num = g_ori_num_cpy;\n",
        "\n",
        "    # //num sum to check \"arstrong num\"\n",
        "    while(g_ori_num) {\n",
        "        g_sum += pow(g_ori_num % 10, g_no_of_digits);; \n",
        "        g_ori_num /= 10;\n",
        "    }\n",
        "\n",
        "    # // check for arstrong num\n",
        "    if(g_ori_num_cpy == g_sum) {\n",
        "        printf(\"Number %d is armstrong num\", g_ori_num_cpy);\n",
        "    } else {\n",
        "        printf(\"Number %d is not armstrong num\", g_ori_num_cpy);\n",
        "    }\n",
        "    return 0;\n",
        "}"
      ],
      "execution_count": null,
      "outputs": [
        {
          "output_type": "stream",
          "name": "stdout",
          "text": [
            "Writing armstrong_num_checker.c\n"
          ]
        }
      ]
    },
    {
      "cell_type": "markdown",
      "metadata": {
        "id": "f4S6OtvyqJGH"
      },
      "source": [
        "**error: ld returned 1 exit status:** \n",
        "\n",
        "solution:\n",
        "You need to link with the math library.\n",
        "`gcc -o sphere sphere.c -lm`\n",
        "The error you are seeing: error: ld returned 1 exit status is from the linker ld (part of gcc that combines the object files) because it is unable to find where the function pow is defined.\n",
        "\n",
        "Including math.h brings in the declaration of the various functions and not their definition. The def is present in the math library libm.a. You need to link your program with this library so that the calls to functions like pow() are resolved.\n"
      ]
    },
    {
      "cell_type": "code",
      "metadata": {
        "colab": {
          "base_uri": "https://localhost:8080/"
        },
        "id": "l3yTS9aHm29r",
        "outputId": "ab83ed0a-79de-4172-adfa-32c0b9c12cb8"
      },
      "source": [
        "%%shell\n",
        "\n",
        "gcc armstrong_num_checker.c \n",
        "gcc -o armstrong_num_checker armstrong_num_checker.c -lm\n",
        "./armstrong_num_checker"
      ],
      "execution_count": null,
      "outputs": [
        {
          "output_type": "stream",
          "name": "stdout",
          "text": [
            "/tmp/cczRkrlw.o: In function `main':\n",
            "armstrong_num_checker.c:(.text+0x98): undefined reference to `pow'\n",
            "collect2: error: ld returned 1 exit status\n",
            "Number 153 is armstrong num"
          ]
        },
        {
          "output_type": "execute_result",
          "data": {
            "text/plain": [
              ""
            ]
          },
          "metadata": {},
          "execution_count": 25
        }
      ]
    },
    {
      "cell_type": "markdown",
      "metadata": {
        "id": "y7yGCg8Gu1RD"
      },
      "source": [
        "6. Prime number checker\n"
      ]
    },
    {
      "cell_type": "code",
      "metadata": {
        "colab": {
          "base_uri": "https://localhost:8080/"
        },
        "id": "01wz_01Su8ni",
        "outputId": "3a198654-5970-4e93-f83e-8e1f51643a00"
      },
      "source": [
        "%%writefile prime_num_checker.c\n",
        "\n",
        "#include <stdio.h>\n",
        "#include <stdint.h>\n",
        "\n",
        "int main() {\n",
        "    uint16_t g_ori_num = 7;\n",
        "    uint8_t g_is_prm_num_flag = 0;\n",
        "\n",
        "    for(uint8_t itr = 2; itr <= (g_ori_num/2); itr++) {\n",
        "        if((g_ori_num % itr) == 0) {\n",
        "            g_is_prm_num_flag = 1;\n",
        "            break;\n",
        "        }\n",
        "    }\n",
        "    if(g_is_prm_num_flag == 1) {\n",
        "        printf(\"The number %d is not prime num\", g_ori_num);\n",
        "    } else {\n",
        "       printf(\"The number %d is prime num\", g_ori_num); \n",
        "    }\n",
        "    return 0;\n",
        "}\n"
      ],
      "execution_count": null,
      "outputs": [
        {
          "output_type": "stream",
          "name": "stdout",
          "text": [
            "Overwriting prime_num_checker.c\n"
          ]
        }
      ]
    },
    {
      "cell_type": "code",
      "metadata": {
        "id": "DRsZECbYk-Jz",
        "colab": {
          "base_uri": "https://localhost:8080/"
        },
        "outputId": "ba85d3a4-224e-49e9-ef10-91f247bff7ed"
      },
      "source": [
        "%%shell\n",
        "\n",
        "gcc prime_num_checker.c -o prime_num_checker\n",
        "./prime_num_checker"
      ],
      "execution_count": null,
      "outputs": [
        {
          "output_type": "stream",
          "name": "stdout",
          "text": [
            "The number 7 is prime num"
          ]
        },
        {
          "output_type": "execute_result",
          "data": {
            "text/plain": [
              ""
            ]
          },
          "metadata": {},
          "execution_count": 68
        }
      ]
    },
    {
      "cell_type": "markdown",
      "metadata": {
        "id": "8xfwJIIvlulL"
      },
      "source": [
        "7. Fibonacci series using iteration\n",
        "\n",
        "series: 0 1 1 2 3 5 8 13 21 ..."
      ]
    },
    {
      "cell_type": "code",
      "metadata": {
        "id": "YqMYSdGVmeud",
        "colab": {
          "base_uri": "https://localhost:8080/"
        },
        "outputId": "e8d21098-f027-4f52-dea3-ea4fcc343f58"
      },
      "source": [
        "%%writefile fibonacci_w_itr.c\n",
        "\n",
        "#include<stdio.h>\n",
        "#include<stdint.h>\n",
        "\n",
        "int main() {\n",
        "    uint16_t g_fibonacci_len = 10;\n",
        "    uint8_t g_first_num = 0;\n",
        "    uint8_t g_second_num = 1;\n",
        "    uint16_t g_next_num = 0;\n",
        "\n",
        "    for(uint8_t itr = 0; itr <= g_fibonacci_len; itr++) {\n",
        "        if(itr <= 1) {\n",
        "            g_next_num = itr;\n",
        "        } else {\n",
        "            g_next_num = g_first_num + g_second_num;\n",
        "            g_first_num = g_second_num;\n",
        "            g_second_num = g_next_num;\n",
        "        }\n",
        "        printf(\"%d\\r\\n\",g_next_num);\n",
        "    }\n",
        "\n",
        "    return 0;\n",
        "}"
      ],
      "execution_count": null,
      "outputs": [
        {
          "output_type": "stream",
          "name": "stdout",
          "text": [
            "Overwriting fibonacci_w_itr.c\n"
          ]
        }
      ]
    },
    {
      "cell_type": "code",
      "metadata": {
        "id": "QtJioEsfo5Cv",
        "colab": {
          "base_uri": "https://localhost:8080/"
        },
        "outputId": "6ad33ca7-03eb-4082-8825-2473aa652ff4"
      },
      "source": [
        "%%shell\n",
        "gcc fibonacci_w_itr.c -o fibonacci_w_itr\n",
        "./fibonacci_w_itr"
      ],
      "execution_count": null,
      "outputs": [
        {
          "output_type": "stream",
          "name": "stdout",
          "text": [
            "0\r\n",
            "1\r\n",
            "1\r\n",
            "2\r\n",
            "3\r\n",
            "5\r\n",
            "8\r\n",
            "13\r\n",
            "21\r\n",
            "34\r\n",
            "55\r\n"
          ]
        },
        {
          "output_type": "execute_result",
          "data": {
            "text/plain": [
              ""
            ]
          },
          "metadata": {},
          "execution_count": 72
        }
      ]
    },
    {
      "cell_type": "markdown",
      "metadata": {
        "id": "RdvbIyG0pQk5"
      },
      "source": [
        "8. Fibonacci using recursion"
      ]
    },
    {
      "cell_type": "code",
      "metadata": {
        "id": "EN9-OEwVpEfa",
        "colab": {
          "base_uri": "https://localhost:8080/"
        },
        "outputId": "09c591aa-0018-402b-b9eb-e5853159442f"
      },
      "source": [
        "%%writefile fibonacci_w_recursion.c\n",
        "\n",
        "#include<stdio.h>\n",
        "#include<stdint.h>\n",
        "\n",
        "int fibonaci_recursion_func(uint8_t l_itr);\n",
        "\n",
        "int main() {\n",
        "    uint8_t g_fibonacci_len = 6;\n",
        "    for(uint8_t itr = 0; itr < g_fibonacci_len; itr++) {\n",
        "        printf(\"%d\\r\\n\", fibonaci_recursion_func(itr));\n",
        "    }\n",
        "    if(printf(\"Hello world!\")) {}  \n",
        "    return 0;\n",
        "}\n",
        "\n",
        "int fibonaci_recursion_func(uint8_t l_itr) {\n",
        "    if(l_itr == 0 ) return 0;\n",
        "    else if(l_itr == 1) return 1;\n",
        "    else return (fibonaci_recursion_func(l_itr - 1) + fibonaci_recursion_func(l_itr - 2));\n",
        "}"
      ],
      "execution_count": null,
      "outputs": [
        {
          "output_type": "stream",
          "name": "stdout",
          "text": [
            "Overwriting fibonacci_w_recursion.c\n"
          ]
        }
      ]
    },
    {
      "cell_type": "code",
      "metadata": {
        "id": "3Hz5a1i6rg5B",
        "colab": {
          "base_uri": "https://localhost:8080/"
        },
        "outputId": "11dca190-44e1-45f6-f9d2-9c3dd43893d6"
      },
      "source": [
        "%%shell\n",
        "gcc fibonacci_w_recursion.c -o fibonacci_w_recursion\n",
        "./fibonacci_w_recursion"
      ],
      "execution_count": null,
      "outputs": [
        {
          "output_type": "stream",
          "name": "stdout",
          "text": [
            "0\r\n",
            "1\r\n",
            "1\r\n",
            "2\r\n",
            "3\r\n",
            "5\r\n",
            "Hello world!"
          ]
        },
        {
          "output_type": "execute_result",
          "data": {
            "text/plain": [
              ""
            ]
          },
          "metadata": {},
          "execution_count": 10
        }
      ]
    },
    {
      "cell_type": "markdown",
      "metadata": {
        "id": "hEPipJqHzWHk"
      },
      "source": [
        "9. Palindrome using iteration"
      ]
    },
    {
      "cell_type": "code",
      "metadata": {
        "id": "7ZM5Wa_yzkdi",
        "colab": {
          "base_uri": "https://localhost:8080/"
        },
        "outputId": "53c15bec-7ba6-4ef2-97d6-989b6c056e22"
      },
      "source": [
        "%%writefile palindrome_checker_w_itr.c\n",
        "\n",
        "#include<stdio.h>\n",
        "#include<stdint.h>\n",
        "\n",
        "\n",
        "int main() {\n",
        "    unsigned int g_input_num = 253;\n",
        "    unsigned int g_input_num_copy = g_input_num;\n",
        "    unsigned int g_rev_num = 0;\n",
        "    while(g_input_num) {\n",
        "       g_rev_num = g_rev_num * 10 + g_input_num % 10;\n",
        "       g_input_num /= 10;\n",
        "    }\n",
        "    if(g_rev_num == g_input_num_copy) {\n",
        "        printf(\"The input number %d is palindrome\", g_input_num_copy);\n",
        "    } else {\n",
        "        printf(\"The input number %d is not palindrome\", g_input_num_copy);\n",
        "    }\n",
        "    return 0;\n",
        "}"
      ],
      "execution_count": null,
      "outputs": [
        {
          "output_type": "stream",
          "name": "stdout",
          "text": [
            "Writing palindrome_checker_w_itr.c\n"
          ]
        }
      ]
    },
    {
      "cell_type": "code",
      "metadata": {
        "id": "KkwKCrCh0-5b",
        "colab": {
          "base_uri": "https://localhost:8080/"
        },
        "outputId": "5d356455-bf23-4392-f5e6-bfb2feb8c476"
      },
      "source": [
        "%%shell\n",
        "gcc palindrome_checker_w_itr.c -o palindrome_checker_w_itr\n",
        "./palindrome_checker_w_itr"
      ],
      "execution_count": null,
      "outputs": [
        {
          "output_type": "stream",
          "name": "stdout",
          "text": [
            "The input number 253 is not palindrome"
          ]
        },
        {
          "output_type": "execute_result",
          "data": {
            "text/plain": [
              ""
            ]
          },
          "metadata": {},
          "execution_count": 12
        }
      ]
    },
    {
      "cell_type": "markdown",
      "metadata": {
        "id": "s1Iu1QTU1z2S"
      },
      "source": [
        "10. Palindrome using recursion"
      ]
    },
    {
      "cell_type": "code",
      "metadata": {
        "id": "VgoAQ4kP2Bx8",
        "colab": {
          "base_uri": "https://localhost:8080/"
        },
        "outputId": "d78c461a-0b76-4fd2-e417-9dfa5ee281cb"
      },
      "source": [
        "%%writefile palindrome_checker_w_recursion.c\n",
        "\n",
        "#include<stdio.h>\n",
        "#include<stdint.h>\n",
        "\n",
        "unsigned int reversed(unsigned int );  \n",
        "\n",
        "int main() {\n",
        "    unsigned int g_input_num = 123321;\n",
        "    unsigned int g_input_num_copy = g_input_num;\n",
        "\n",
        "    if(g_input_num == reversed(g_input_num)) {\n",
        "        printf(\"The input %d number is palindrome\", g_input_num);\n",
        "    } else {\n",
        "        printf(\"The input %d number is not palindrome\", g_input_num);\n",
        "    }    \n",
        "    return 0;\n",
        "}\n",
        "\n",
        "unsigned int reversed(unsigned int l_input_num) {\n",
        "    unsigned static int s_sum = 0;\n",
        "    if(l_input_num) {\n",
        "      s_sum = s_sum*10 + l_input_num%10;\n",
        "      unsigned int garbage = reversed(l_input_num/10);  \n",
        "    } else return s_sum;\n",
        "    \n",
        "}"
      ],
      "execution_count": null,
      "outputs": [
        {
          "output_type": "stream",
          "name": "stdout",
          "text": [
            "Overwriting palindrome_checker_w_recursion.c\n"
          ]
        }
      ]
    },
    {
      "cell_type": "code",
      "metadata": {
        "colab": {
          "base_uri": "https://localhost:8080/"
        },
        "id": "p9tPxu1gP4_J",
        "outputId": "d2893eff-f0c9-42dc-a5e9-f4a0670d90cd"
      },
      "source": [
        "%%shell \n",
        "gcc palindrome_checker_w_recursion.c -o palindrome_checker_w_recursion\n",
        "./palindrome_checker_w_recursion"
      ],
      "execution_count": null,
      "outputs": [
        {
          "output_type": "stream",
          "name": "stdout",
          "text": [
            "The input 123321 number is palindrome"
          ]
        },
        {
          "output_type": "execute_result",
          "data": {
            "text/plain": [
              ""
            ]
          },
          "metadata": {},
          "execution_count": 28
        }
      ]
    },
    {
      "cell_type": "markdown",
      "metadata": {
        "id": "0_vp4OKCT_9W"
      },
      "source": [
        "11. Check if giver num is binary or not. Binary num contains only 0's and 1's."
      ]
    },
    {
      "cell_type": "code",
      "metadata": {
        "colab": {
          "base_uri": "https://localhost:8080/"
        },
        "id": "BtlzmAgNW3JS",
        "outputId": "480e3261-727b-40e2-fe3c-0564d57cb263"
      },
      "source": [
        "%%writefile binary_num_checker.c\n",
        "\n",
        "\n",
        "#include<stdio.h>\n",
        "#include<stdint.h>\n",
        "\n",
        "int main() {\n",
        "    uint32_t g_input_num = 111005001;\n",
        "    uint32_t g_input_num_copy = g_input_num;\n",
        "    while(g_input_num) {\n",
        "        uint8_t rem = g_input_num%10;\n",
        "        if((rem != 0) && (rem != 1)) {\n",
        "            printf(\"The input number %d is not binary num\", g_input_num_copy);\n",
        "            return 0;\n",
        "        } else g_input_num /= 10;   \n",
        "    } \n",
        "    printf(\"The input number %d is binary num\", g_input_num_copy); \n",
        "    return 0;\n",
        "}"
      ],
      "execution_count": null,
      "outputs": [
        {
          "output_type": "stream",
          "name": "stdout",
          "text": [
            "Overwriting binary_num_checker.c\n"
          ]
        }
      ]
    },
    {
      "cell_type": "code",
      "metadata": {
        "colab": {
          "base_uri": "https://localhost:8080/"
        },
        "id": "Cr-bfGydYkx_",
        "outputId": "46ae310d-7360-4f35-b257-ea8190f59390"
      },
      "source": [
        "%%shell\n",
        "\n",
        "gcc binary_num_checker.c -o binary_num_checker\n",
        "./binary_num_checker"
      ],
      "execution_count": null,
      "outputs": [
        {
          "output_type": "stream",
          "name": "stdout",
          "text": [
            "The input number 111005001 is not binary num"
          ]
        },
        {
          "output_type": "execute_result",
          "data": {
            "text/plain": [
              ""
            ]
          },
          "metadata": {},
          "execution_count": 59
        }
      ]
    },
    {
      "cell_type": "markdown",
      "metadata": {
        "id": "E3L0-GS_aK0M"
      },
      "source": [
        "12. sum of digits using recussion"
      ]
    },
    {
      "cell_type": "code",
      "metadata": {
        "colab": {
          "base_uri": "https://localhost:8080/"
        },
        "id": "9TXOzea7Yoms",
        "outputId": "19bff766-f914-4f64-9a43-d310738fe1e9"
      },
      "source": [
        "%%writefile digits_sum_w_recusion.c\n",
        "\n",
        "#include<stdio.h>\n",
        "#include<stdint.h>\n",
        "\n",
        "int sum_w_recusrion(int );\n",
        "\n",
        "int main() {\n",
        "    int g_input_num = 12;\n",
        "    printf(\"The sum of the digits of the num %d is %d\", g_input_num, sum_w_recusrion(g_input_num));\n",
        "    return 0;\n",
        "}\n",
        "\n",
        "int sum_w_recusrion(int l_input_num) {\n",
        "    int static s_sum = 0;\n",
        "    if(l_input_num) {\n",
        "        s_sum = s_sum + l_input_num%10;\n",
        "        int intermediate_garbage_result = sum_w_recusrion(l_input_num/10);\n",
        "    } else return s_sum;\n",
        "}"
      ],
      "execution_count": null,
      "outputs": [
        {
          "output_type": "stream",
          "name": "stdout",
          "text": [
            "Writing digits_sum_w_recusion.c\n"
          ]
        }
      ]
    },
    {
      "cell_type": "code",
      "metadata": {
        "colab": {
          "base_uri": "https://localhost:8080/"
        },
        "id": "fCZxyTnLj7gd",
        "outputId": "6dace4e8-7629-4f9e-ab71-398e9daef863"
      },
      "source": [
        "%%shell\n",
        "gcc digits_sum_w_recusion.c -o digits_sum_w_recusion\n",
        "./digits_sum_w_recusion"
      ],
      "execution_count": null,
      "outputs": [
        {
          "output_type": "stream",
          "name": "stdout",
          "text": [
            "The sum of the digits of the num 12 is 3"
          ]
        },
        {
          "output_type": "execute_result",
          "data": {
            "text/plain": [
              ""
            ]
          },
          "metadata": {},
          "execution_count": 3
        }
      ]
    },
    {
      "cell_type": "markdown",
      "metadata": {
        "id": "1lNyyVbEm6PM"
      },
      "source": [
        "13. swap numbers w or w/o third varibale"
      ]
    },
    {
      "cell_type": "code",
      "metadata": {
        "id": "6WnY1-acnIyd",
        "colab": {
          "base_uri": "https://localhost:8080/"
        },
        "outputId": "1f41b5d6-6ed6-495f-8b2a-10e0260d339d"
      },
      "source": [
        "%%writefile swap_num.c\n",
        "\n",
        "#include<stdio.h>\n",
        "#include<stdint.h>\n",
        "\n",
        "void swap_method1(uint32_t*, uint32_t*);\n",
        "void swap_method2(uint32_t*, uint32_t*);\n",
        "void swap_method3(uint32_t*, uint32_t*);\n",
        "\n",
        "int main() {\n",
        "    uint32_t g_num1 = 5;\n",
        "    uint32_t g_num2 = 10;\n",
        "    uint32_t* g_ptr_num1 = &g_num1;\n",
        "    uint32_t* g_ptr_num2 = &g_num2;\n",
        "\n",
        "    swap_method1(g_ptr_num1, g_ptr_num2);\n",
        "    printf(\"The swapped num are: num1 = %d, and num2 = %d\\r\\n\", *g_ptr_num1, *g_ptr_num2);\n",
        "    swap_method2(g_ptr_num1, g_ptr_num2);\n",
        "    printf(\"The swapped num are: num1 = %d, and num2 = %d\\r\\n\", *g_ptr_num1, *g_ptr_num2);\n",
        "    swap_method3(g_ptr_num1, g_ptr_num2);\n",
        "    printf(\"The swapped num are: num1 = %d, and num2 = %d\\r\\n\", *g_ptr_num1, *g_ptr_num2);\n",
        "\n",
        "    return 0;\n",
        "}\n",
        "\n",
        "void swap_method1(uint32_t* l_ptr_num1, uint32_t* l_ptr_num2) {\n",
        "    *l_ptr_num1 = *l_ptr_num1 + *l_ptr_num2;\n",
        "    *l_ptr_num2 = *l_ptr_num1 - *l_ptr_num2;\n",
        "    *l_ptr_num1 = *l_ptr_num1 - *l_ptr_num2;\n",
        "} \n",
        "void swap_method2(uint32_t* l_ptr_num1, uint32_t* l_ptr_num2) {\n",
        "    *l_ptr_num1 = *l_ptr_num1 ^ *l_ptr_num2;\n",
        "    *l_ptr_num2 = *l_ptr_num1 ^ *l_ptr_num2;\n",
        "    *l_ptr_num1 = *l_ptr_num1 ^ *l_ptr_num2;\n",
        "}\n",
        "void swap_method3(uint32_t* l_ptr_num1, uint32_t* l_ptr_num2) {\n",
        "    uint32_t l_temp_num = *l_ptr_num1;\n",
        "    *l_ptr_num1 = *l_ptr_num2;\n",
        "    *l_ptr_num2 = l_temp_num;\n",
        "}"
      ],
      "execution_count": null,
      "outputs": [
        {
          "output_type": "stream",
          "name": "stdout",
          "text": [
            "Overwriting swap_num.c\n"
          ]
        }
      ]
    },
    {
      "cell_type": "code",
      "metadata": {
        "colab": {
          "base_uri": "https://localhost:8080/"
        },
        "id": "58oyHpKrNRFC",
        "outputId": "706bec1f-6ebe-4f06-a82c-42c7f36442e6"
      },
      "source": [
        "%%shell\n",
        "gcc swap_num.c -o swap_num\n",
        "./swap_num"
      ],
      "execution_count": null,
      "outputs": [
        {
          "output_type": "stream",
          "name": "stdout",
          "text": [
            "The swapped num are: num1 = 10, and num2 = 5\r\n",
            "The swapped num are: num1 = 5, and num2 = 10\r\n",
            "The swapped num are: num1 = 10, and num2 = 5\r\n"
          ]
        },
        {
          "output_type": "execute_result",
          "data": {
            "text/plain": [
              ""
            ]
          },
          "metadata": {},
          "execution_count": 8
        }
      ]
    },
    {
      "cell_type": "markdown",
      "metadata": {
        "id": "DlYjlPi-P2_d"
      },
      "source": [
        "14. Finding prime factors numbers. eg. 6 --> prime factors = 1, 2, 3\n",
        "\n"
      ]
    },
    {
      "cell_type": "code",
      "metadata": {
        "colab": {
          "base_uri": "https://localhost:8080/"
        },
        "id": "EKQkieNlNW4J",
        "outputId": "3f06e870-1037-446c-9d99-c790134c83e5"
      },
      "source": [
        "%%writefile prime_factor_finder.c\n",
        "\n",
        "#include<stdio.h>\n",
        "#include<stdint.h>\n",
        "\n",
        "int main() {\n",
        "    int g_input_num = 512;\n",
        "\n",
        "    printf(\"prime factors are: %d, \", 1);\n",
        "    while(g_input_num%2 == 0) {\n",
        "        printf(\"%d, \", 2);\n",
        "        g_input_num /= 2;\n",
        "    }\n",
        "    for(int itr = 3; itr<=g_input_num; itr++) {\n",
        "        if(g_input_num%itr == 0) {\n",
        "            printf(\"%d, \", itr);\n",
        "        }\n",
        "    }\n",
        "\n",
        "    return 0;\n",
        "}"
      ],
      "execution_count": null,
      "outputs": [
        {
          "output_type": "stream",
          "name": "stdout",
          "text": [
            "Overwriting prime_factor_finder.c\n"
          ]
        }
      ]
    },
    {
      "cell_type": "code",
      "metadata": {
        "colab": {
          "base_uri": "https://localhost:8080/"
        },
        "id": "R5cBQJ9SVLjD",
        "outputId": "fff89dec-e3a5-45ab-d322-a151dcc59b99"
      },
      "source": [
        "%%shell\n",
        "\n",
        "gcc prime_factor_finder.c -o prime_factor_finder\n",
        "./prime_factor_finder"
      ],
      "execution_count": null,
      "outputs": [
        {
          "output_type": "stream",
          "name": "stdout",
          "text": [
            "prime factors are: 1, 2, 2, 2, 2, 2, 2, 2, 2, 2, "
          ]
        },
        {
          "output_type": "execute_result",
          "data": {
            "text/plain": [
              ""
            ]
          },
          "metadata": {},
          "execution_count": 37
        }
      ]
    },
    {
      "cell_type": "markdown",
      "metadata": {
        "id": "mvIlb6Lflw8S"
      },
      "source": [
        "15. Add 2 numbers w/o + operator"
      ]
    },
    {
      "cell_type": "code",
      "metadata": {
        "colab": {
          "base_uri": "https://localhost:8080/"
        },
        "id": "bzmMdJKkVTi3",
        "outputId": "6f6dafa1-5aaf-4e74-cb91-103ea9323ecf"
      },
      "source": [
        "%%writefile add_wo_+.c\n",
        "\n",
        "#include<stdio.h>\n",
        "#include<stdint.h>\n",
        "\n",
        "int main() {\n",
        "    int g_input_num1 = 10;\n",
        "    int g_input_num2 = 20;\n",
        "    int g_sum = g_input_num2;\n",
        "\n",
        "    for(uint8_t itr = 0; itr< g_input_num1; itr++) g_sum++;\n",
        "    printf(\"The addition of %d and %d is %d\", g_input_num1, g_input_num2, g_sum);\n",
        "    return 0;\n",
        "}"
      ],
      "execution_count": null,
      "outputs": [
        {
          "output_type": "stream",
          "name": "stdout",
          "text": [
            "Overwriting add_wo_+.c\n"
          ]
        }
      ]
    },
    {
      "cell_type": "code",
      "metadata": {
        "colab": {
          "base_uri": "https://localhost:8080/"
        },
        "id": "SnkZAHLGmpH3",
        "outputId": "914e92b8-18f4-4016-91fe-bbaeb0dc0f28"
      },
      "source": [
        "%%shell\n",
        "gcc add_wo_+.c -o add_wo_+\n",
        "./add_wo_+"
      ],
      "execution_count": null,
      "outputs": [
        {
          "output_type": "stream",
          "name": "stdout",
          "text": [
            "The addition of 10 and 20 is 30"
          ]
        },
        {
          "output_type": "execute_result",
          "data": {
            "text/plain": [
              ""
            ]
          },
          "metadata": {},
          "execution_count": 42
        }
      ]
    },
    {
      "cell_type": "markdown",
      "metadata": {
        "id": "iB9eI9bznSc4"
      },
      "source": [
        "16. Perfect number checker.\n",
        "         A perfect number is a positive integer that is equal to the sum of its positive divisors, excluding the number itself. \n",
        "\n",
        "         eg. 6 --> 1 + 2 + 3 = 6"
      ]
    },
    {
      "cell_type": "code",
      "metadata": {
        "colab": {
          "base_uri": "https://localhost:8080/"
        },
        "id": "9AEPfNgUm4I1",
        "outputId": "e07a8e21-0e55-4645-e191-c8f78c909206"
      },
      "source": [
        "%%writefile perfect_num_checker.c\n",
        "\n",
        "#include<stdio.h>\n",
        "#include<stdint.h>\n",
        "\n",
        "int main() {\n",
        "    int g_input_num = 12;\n",
        "    int g_sum = 0;\n",
        "\n",
        "    for(int itr = 1; itr < g_input_num; itr++){\n",
        "        if((g_input_num % itr) == 0) {\n",
        "            g_sum += itr;\n",
        "            #// printf(\"%d\\n\", g_sum);\n",
        "        } else {}\n",
        "    }\n",
        "    if(g_input_num == g_sum) printf(\"The input number %d is perfect number\", g_input_num);\n",
        "    else printf(\"The input number %d is not perfect number\", g_input_num);\n",
        "    return 0;\n",
        "}"
      ],
      "execution_count": null,
      "outputs": [
        {
          "output_type": "stream",
          "name": "stdout",
          "text": [
            "Overwriting perfect_num_checker.c\n"
          ]
        }
      ]
    },
    {
      "cell_type": "code",
      "metadata": {
        "colab": {
          "base_uri": "https://localhost:8080/"
        },
        "id": "BfvSNzpgpd6_",
        "outputId": "6d41fdd9-353a-46fe-8bd0-40f8e6e698e9"
      },
      "source": [
        "%%shell\n",
        "gcc perfect_num_checker.c -o perfect_num_checker\n",
        "./perfect_num_checker"
      ],
      "execution_count": null,
      "outputs": [
        {
          "output_type": "stream",
          "name": "stdout",
          "text": [
            "The input number 12 is not perfect number"
          ]
        },
        {
          "output_type": "execute_result",
          "data": {
            "text/plain": [
              ""
            ]
          },
          "metadata": {},
          "execution_count": 66
        }
      ]
    },
    {
      "cell_type": "markdown",
      "metadata": {
        "id": "vLG-XEV2q-U0"
      },
      "source": [
        "Sec"
      ]
    },
    {
      "cell_type": "markdown",
      "metadata": {
        "id": "XA4_a0IWrBbx"
      },
      "source": [
        "# Array"
      ]
    },
    {
      "cell_type": "markdown",
      "metadata": {
        "id": "9v681BS9rIf7"
      },
      "source": [
        "1. Missing number in array of size n. The number entered are in sequence like 1, 2, 3, 4, 5, ....."
      ]
    },
    {
      "cell_type": "code",
      "metadata": {
        "colab": {
          "base_uri": "https://localhost:8080/"
        },
        "id": "L5bTejlnp6In",
        "outputId": "09342e72-d8d7-4abc-fcd5-c935a829aeba"
      },
      "source": [
        "%%writefile missing_num_in_array.c\n",
        "\n",
        "#include<stdio.h>\n",
        "#include<stdint.h>\n",
        "#define SIZE 10\n",
        "\n",
        "int main() {\n",
        "    uint32_t g_num_array[SIZE] = {1, 2, 3, 4, 6, 7, 8, 9, 10};\n",
        "    int g_sum = 0;\n",
        "    for(uint8_t itr = 0; itr < SIZE-1; itr++) {\n",
        "        g_sum += g_num_array[itr];\n",
        "    }\n",
        "    if(g_sum != (SIZE * (SIZE - 1)/2)){\n",
        "        printf(\"The missing number is %d\", (SIZE * (SIZE + 1)/2) - g_sum);\n",
        "    } else printf(\"All numbers are in the array\");\n",
        "  return 0;\n",
        "}"
      ],
      "execution_count": null,
      "outputs": [
        {
          "output_type": "stream",
          "name": "stdout",
          "text": [
            "Overwriting missing_num_in_array.c\n"
          ]
        }
      ]
    },
    {
      "cell_type": "code",
      "metadata": {
        "colab": {
          "base_uri": "https://localhost:8080/"
        },
        "id": "xlFiJ-HS62h4",
        "outputId": "3acde142-03a4-4050-add4-8799289548ec"
      },
      "source": [
        "%%shell \n",
        "gcc missing_num_in_array.c -o missing_num_in_array\n",
        "./missing_num_in_array"
      ],
      "execution_count": null,
      "outputs": [
        {
          "output_type": "stream",
          "name": "stdout",
          "text": [
            "The missing number is 5"
          ]
        },
        {
          "output_type": "execute_result",
          "data": {
            "text/plain": [
              ""
            ]
          },
          "metadata": {},
          "execution_count": 81
        }
      ]
    },
    {
      "cell_type": "markdown",
      "metadata": {
        "id": "SU0LYu7a1gmY"
      },
      "source": [
        "2. Count num occurances in array"
      ]
    },
    {
      "cell_type": "code",
      "metadata": {
        "id": "IaO2NyhG7BHs",
        "colab": {
          "base_uri": "https://localhost:8080/"
        },
        "outputId": "893b0725-4176-45c8-ad55-c52edf8f31a8"
      },
      "source": [
        "%%writefile array_ele_occur.c\n",
        "#include<stdio.h>\n",
        "#include<stdint.h>\n",
        "#include<conio.h>\n",
        "\n",
        "#define SIZE 10\n",
        "\n",
        "void main() {\n",
        "    unsigned short int g_input_array[SIZE] = {};\n",
        "    unsigned short int g_occur_array[SIZE] = {};\n",
        "\n",
        "    printf(\"ENter the array members!\");\n",
        "    for(uint8_t itr = 0; itr < SIZE; itr++) {\n",
        "        scanf(\"%d\", g_input_array[itr]);\n",
        "        g_occur_array[g_input_array[itr]]++;\n",
        "    }\n",
        "    for(uint8_t itr = 0; itr<SIZE; itr++) {\n",
        "        printf(\"%d repeated %d times\", itr, g_occur_array[itr]);\n",
        "    }\n",
        "    getch();\n",
        "}"
      ],
      "execution_count": null,
      "outputs": [
        {
          "output_type": "stream",
          "name": "stdout",
          "text": [
            "Overwriting array_ele_occur.c\n"
          ]
        }
      ]
    },
    {
      "cell_type": "code",
      "metadata": {
        "id": "CkkPP0Mx4L6y"
      },
      "source": [
        "%%shell\n",
        "\n",
        "gcc array_ele_occur.c -o array_ele_occur\n",
        "./array_ele_occur"
      ],
      "execution_count": null,
      "outputs": []
    },
    {
      "cell_type": "markdown",
      "metadata": {
        "id": "4xSY0KoL5h30"
      },
      "source": [
        "3. array of pointers"
      ]
    },
    {
      "cell_type": "code",
      "metadata": {
        "id": "arSN0NtW7B3V",
        "colab": {
          "base_uri": "https://localhost:8080/"
        },
        "outputId": "67535abc-4c5a-4d75-ff5d-df895d354904"
      },
      "source": [
        "%%writefile array_of_pointers.c\n",
        "\n",
        "#include<stdio.h>\n",
        "#include<stdint.h>\n",
        "int main() {\n",
        "    int* g_arr_ptr[10] = {0};\n",
        "    printf(\"Addresses in the array are\");\n",
        "    for(short itr = 10; itr; itr--) {\n",
        "        printf(\"%p\\n\\r\", g_arr_ptr[itr] = &itr + itr);\n",
        "    }\n",
        "    return 0;\n",
        "}"
      ],
      "execution_count": null,
      "outputs": [
        {
          "output_type": "stream",
          "name": "stdout",
          "text": [
            "Overwriting array_of_pointers.c\n"
          ]
        }
      ]
    },
    {
      "cell_type": "code",
      "metadata": {
        "id": "os2r5-YL8dgY",
        "colab": {
          "base_uri": "https://localhost:8080/"
        },
        "outputId": "c46bbb40-70f1-4926-ec6a-6451fa01e56d"
      },
      "source": [
        "%%shell\n",
        "gcc array_of_pointers.c -o array_of_pointers\n",
        "./array_of_pointers"
      ],
      "execution_count": null,
      "outputs": [
        {
          "output_type": "stream",
          "name": "stdout",
          "text": [
            "\u001b[01m\u001b[Karray_of_pointers.c:\u001b[m\u001b[K In function ‘\u001b[01m\u001b[Kmain\u001b[m\u001b[K’:\n",
            "\u001b[01m\u001b[Karray_of_pointers.c:8:41:\u001b[m\u001b[K \u001b[01;35m\u001b[Kwarning: \u001b[m\u001b[Kassignment from incompatible pointer type [\u001b[01;35m\u001b[K-Wincompatible-pointer-types\u001b[m\u001b[K]\n",
            "         printf(\"%p\\n\\r\", g_arr_ptr[itr] \u001b[01;35m\u001b[K=\u001b[m\u001b[K &itr + itr);\n",
            "                                         \u001b[01;35m\u001b[K^\u001b[m\u001b[K\n",
            "Addresses in the array are0x7fff2ceb7e92\n",
            "\r0x7fff2ceb7e90\n",
            "\r0x7fff2ceb7e8e\n",
            "\r0x7fff2ceb7e8c\n",
            "\r0x7fff2ceb7e8a\n",
            "\r0x7fff2ceb7e88\n",
            "\r0x7fff2ceb7e86\n",
            "\r0x7fff2ceb7e84\n",
            "\r0x7fff2ceb7e82\n",
            "\r0x7fff2ceb7e80\n",
            "\r"
          ]
        },
        {
          "output_type": "execute_result",
          "data": {
            "text/plain": [
              ""
            ]
          },
          "metadata": {},
          "execution_count": 21
        }
      ]
    },
    {
      "cell_type": "markdown",
      "metadata": {
        "id": "V0GgHhviofNp"
      },
      "source": [
        ""
      ]
    },
    {
      "cell_type": "markdown",
      "metadata": {
        "id": "r8Ykbq2wogyT"
      },
      "source": [
        "# Bit twidlling\n"
      ]
    },
    {
      "cell_type": "markdown",
      "metadata": {
        "id": "RmyH_NO8o5S_"
      },
      "source": [
        "1. check sign of the int num\n"
      ]
    },
    {
      "cell_type": "code",
      "metadata": {
        "colab": {
          "base_uri": "https://localhost:8080/"
        },
        "id": "bGeoSsvrojyZ",
        "outputId": "d2d3a8c6-0cd0-4ceb-ff24-dcc3255b1fd1"
      },
      "source": [
        "%%writefile num_sign_check.c\n",
        "#include<stdio.h>\n",
        "#include<stdint.h>\n",
        "\n",
        "uint8_t ispositive(int* l_num_ptr) {\n",
        "    if(*l_num_ptr < 0) return 0;\n",
        "    else return 1;\n",
        "}\n",
        "\n",
        "int main() {\n",
        "    int g_num = 123;\n",
        "    if(ispositive(&g_num)) printf(\"The number %d is positive\", g_num);\n",
        "    else printf(\"The number %d is negative\", g_num);\n",
        "\n",
        "    return 0;\n",
        "}"
      ],
      "execution_count": null,
      "outputs": [
        {
          "output_type": "stream",
          "name": "stdout",
          "text": [
            "Overwriting num_sign_check.c\n"
          ]
        }
      ]
    },
    {
      "cell_type": "code",
      "metadata": {
        "colab": {
          "base_uri": "https://localhost:8080/"
        },
        "id": "HWYodXbCqO1o",
        "outputId": "032c71ae-60f7-4b1c-81f0-ea1611cebd21"
      },
      "source": [
        "%%shell \n",
        "\n",
        "gcc num_sign_check.c -o num_sign_check\n",
        "./num_sign_check"
      ],
      "execution_count": null,
      "outputs": [
        {
          "output_type": "stream",
          "name": "stdout",
          "text": [
            "The number 123 is positive"
          ]
        },
        {
          "output_type": "execute_result",
          "data": {
            "text/plain": [
              ""
            ]
          },
          "metadata": {},
          "execution_count": 15
        }
      ]
    },
    {
      "cell_type": "markdown",
      "metadata": {
        "id": "wV9z6ySMrHiB"
      },
      "source": [
        "2. Check if 2 nums have opposite sign"
      ]
    },
    {
      "cell_type": "code",
      "metadata": {
        "colab": {
          "base_uri": "https://localhost:8080/"
        },
        "id": "AFqCS2G3rOHz",
        "outputId": "89b8c59b-d17b-4380-9230-70c7ecb8300a"
      },
      "source": [
        "%%writefile opposite_sign_num_check.c\n",
        "#include<stdio.h>\n",
        "#include<stdint.h>\n",
        "\n",
        "int main() {\n",
        "    uint32_t g_input_num1 = -1;\n",
        "    uint32_t g_input_num2 = 2;\n",
        "    if((g_input_num1 ^ g_input_num2) < 0) printf(\"Numbers have opposite sign\");\n",
        "    else printf(\"Numbers have same sign\");   \n",
        "    return 0;\n",
        "}"
      ],
      "execution_count": null,
      "outputs": [
        {
          "output_type": "stream",
          "name": "stdout",
          "text": [
            "Overwriting opposite_sign_num_check.c\n"
          ]
        }
      ]
    },
    {
      "cell_type": "code",
      "metadata": {
        "colab": {
          "base_uri": "https://localhost:8080/"
        },
        "id": "Pe2-9c7RqVnT",
        "outputId": "4c7919e1-c48a-485b-d591-48764cc56de2"
      },
      "source": [
        "%%shell\n",
        "gcc opposite_sign_num_check.c -o opposite_sign_num_check\n",
        "./opposite_sign_num_check"
      ],
      "execution_count": null,
      "outputs": [
        {
          "output_type": "stream",
          "name": "stdout",
          "text": [
            "Numbers have same sign"
          ]
        },
        {
          "output_type": "execute_result",
          "data": {
            "text/plain": [
              ""
            ]
          },
          "metadata": {},
          "execution_count": 27
        }
      ]
    },
    {
      "cell_type": "markdown",
      "metadata": {
        "id": "5EA-HCDLLbt2"
      },
      "source": [
        "3. Counting number of set bits in a binary number\n",
        "\n",
        "Parity of a number is based on the number of 1’s present in the binary equivalent of that number. When the count of present 1s is odd, its odd parity, for an even number of 1s its even parity."
      ]
    },
    {
      "cell_type": "code",
      "metadata": {
        "colab": {
          "base_uri": "https://localhost:8080/"
        },
        "id": "WAA0gBHZsbuw",
        "outputId": "8b21e985-d2d2-4ab0-b38e-413c195ae02c"
      },
      "source": [
        "%%writefile set_bit_counter.c\n",
        "#include<stdio.h>\n",
        "#include<stdint.h>\n",
        "\n",
        "int main() {\n",
        "    uint16_t g_num = 0b0001010011100101;\n",
        "    uint16_t g_num_copy = g_num;\n",
        "    uint8_t g_setbit_count = 0;\n",
        "    \n",
        "    for(uint8_t g_set_bit_count = 0; g_num; g_num >>= 1) {\n",
        "      g_setbit_count += g_num & 1;\n",
        "    }\n",
        "    printf(\"Number of set bits in the 0x%x are %d\\n\", g_num_copy, g_setbit_count);\n",
        "    int rem = 0;\n",
        "    while(g_setbit_count) {\n",
        "        rem = g_setbit_count%2;\n",
        "          g_setbit_count /= 2;\n",
        "    }\n",
        "    if(rem == 0) printf(\"Parity of the 0x%x is even\", g_num_copy);\n",
        "        else if(rem == 1) printf(\"Parity of the 0x%x is odd\", g_num_copy);\n",
        "    return 0;\n",
        "}"
      ],
      "execution_count": null,
      "outputs": [
        {
          "output_type": "stream",
          "name": "stdout",
          "text": [
            "Overwriting set_bit_counter.c\n"
          ]
        }
      ]
    },
    {
      "cell_type": "code",
      "metadata": {
        "colab": {
          "base_uri": "https://localhost:8080/"
        },
        "id": "8HPaJLwEYFDc",
        "outputId": "e8a6fb1f-9dc2-416e-f06a-7b46ee2de4a6"
      },
      "source": [
        "%%shell\n",
        "gcc set_bit_counter.c -o set_bit_counter\n",
        "./set_bit_counter"
      ],
      "execution_count": null,
      "outputs": [
        {
          "output_type": "stream",
          "name": "stdout",
          "text": [
            "Number of set bits in the 0x14e5 are 7\n",
            "Parity of the 0x14e5 is odd"
          ]
        },
        {
          "output_type": "execute_result",
          "data": {
            "text/plain": [
              ""
            ]
          },
          "metadata": {},
          "execution_count": 47
        }
      ]
    },
    {
      "cell_type": "code",
      "metadata": {
        "id": "drvd-36mt8b1",
        "colab": {
          "base_uri": "https://localhost:8080/"
        },
        "outputId": "74532820-d687-4a37-c285-5f90e1a0d1e1"
      },
      "source": [
        "%%writefile byte_reversal.c\n",
        "\n",
        "#include<stdio.h>\n",
        "#include<stdint.h>\n",
        "\n",
        "int main() {\n",
        "    uint16_t g_num = 0x1623, g_rev_num = 0;\n",
        "    g_rev_num |= ((g_num & 0xFF00) >> 8);\n",
        "    g_rev_num |= ((g_num & 0x00FF) << 8);\n",
        "    printf(\"%x\\r\\n\", g_rev_num);\n",
        "    return 0;\n",
        "}"
      ],
      "execution_count": null,
      "outputs": [
        {
          "output_type": "stream",
          "name": "stdout",
          "text": [
            "Writing byte_reversal.c\n"
          ]
        }
      ]
    },
    {
      "cell_type": "code",
      "metadata": {
        "id": "cAMju5Kot-wp",
        "colab": {
          "base_uri": "https://localhost:8080/"
        },
        "outputId": "74afb12a-787f-4cd3-c33f-f749f455bf28"
      },
      "source": [
        "%%shell \n",
        "gcc byte_reversal.c -o byte_reversal\n",
        "./byte_reversal"
      ],
      "execution_count": null,
      "outputs": [
        {
          "output_type": "stream",
          "name": "stdout",
          "text": [
            "2316\r\n"
          ]
        },
        {
          "output_type": "execute_result",
          "data": {
            "text/plain": [
              ""
            ]
          },
          "metadata": {},
          "execution_count": 3
        }
      ]
    },
    {
      "cell_type": "code",
      "metadata": {
        "id": "YlEwNfZgwHNk",
        "colab": {
          "base_uri": "https://localhost:8080/"
        },
        "outputId": "7fa85e87-b4f7-45dc-e200-406b2f7c88dc"
      },
      "source": [
        "%%writefile bit_reversal.c\n",
        "\n",
        "#include<stdio.h>\n",
        "#include<stdint.h>\n",
        "\n",
        "int main() {\n",
        "    uint16_t g_num = 0x1234, g_rev_num = 0;\n",
        "    uint8_t rev_lu[16] = {0x00, 0x08, 0x04,0x0C,0x02,0x0A,0x06,0x0E,0x01,0x09,0x05,0x0D,0x03,0x0B,0x03,0x0F};\n",
        "    g_rev_num |= rev_lu[(g_num & 0x000F) >> 0] << 12;\n",
        "    g_rev_num |= rev_lu[(g_num & 0x00F0) >> 4] << 8;\n",
        "    g_rev_num |= rev_lu[(g_num & 0x0F00) >> 8] << 4;\n",
        "    g_rev_num |= rev_lu[(g_num & 0xF000) >> 12] << 0;\n",
        "    printf(\"%x\\r\\n\", g_rev_num);\n",
        "    return 0;\n",
        "}"
      ],
      "execution_count": null,
      "outputs": [
        {
          "output_type": "stream",
          "name": "stdout",
          "text": [
            "Overwriting bit_reversal.c\n"
          ]
        }
      ]
    },
    {
      "cell_type": "code",
      "metadata": {
        "id": "Ew464UHj5qe6",
        "colab": {
          "base_uri": "https://localhost:8080/"
        },
        "outputId": "be34be3f-03fe-4c6d-fbf6-8edd71774e3c"
      },
      "source": [
        "%%shell\n",
        "gcc bit_reversal.c -o bit_reversal\n",
        "./bit_reversal"
      ],
      "execution_count": null,
      "outputs": [
        {
          "output_type": "stream",
          "name": "stdout",
          "text": [
            "4800\r\n"
          ]
        },
        {
          "output_type": "execute_result",
          "data": {
            "text/plain": [
              ""
            ]
          },
          "metadata": {},
          "execution_count": 15
        }
      ]
    },
    {
      "cell_type": "markdown",
      "metadata": {
        "id": "-hinbthzSNsf"
      },
      "source": [
        ""
      ]
    },
    {
      "cell_type": "markdown",
      "metadata": {
        "id": "Ba-L0EKqSYQs"
      },
      "source": [
        "#  Intvw questions\n"
      ]
    },
    {
      "cell_type": "code",
      "metadata": {
        "id": "1EvaZzquukCF"
      },
      "source": [
        ""
      ],
      "execution_count": null,
      "outputs": []
    },
    {
      "cell_type": "code",
      "metadata": {
        "id": "XP40cVZZYTuQ"
      },
      "source": [
        "1. Leap year finder using macro functions"
      ],
      "execution_count": null,
      "outputs": []
    },
    {
      "cell_type": "code",
      "metadata": {
        "id": "AHM97jboSlyh",
        "colab": {
          "base_uri": "https://localhost:8080/"
        },
        "outputId": "0e001a7e-75ca-4759-d9b5-8cdc5d90f421"
      },
      "source": [
        "%%writefile leap_year_finder.c\n",
        "\n",
        "\n",
        "#define LEAP_YEAR(X) ((X%4 == 0) && (X%100 != 0) || (X%400 == 0))?1:0\n",
        "\n",
        "#include<stdio.h>\n",
        "\n",
        "int main() {\n",
        "    int g_year = 1990;\n",
        "    if(LEAP_YEAR(g_year)) printf(\"The year %d is leap is leap year\", g_year);\n",
        "    else printf(\"The year %d is leap is not leap year\", g_year);\n",
        "    return 0;\n",
        "}"
      ],
      "execution_count": null,
      "outputs": [
        {
          "output_type": "stream",
          "name": "stdout",
          "text": [
            "Overwriting leap_year_finder.c\n"
          ]
        }
      ]
    },
    {
      "cell_type": "code",
      "metadata": {
        "id": "UZSRf8tE5lR3",
        "colab": {
          "base_uri": "https://localhost:8080/"
        },
        "outputId": "f57c2a3c-59e3-43b8-8075-d6be950c2c85"
      },
      "source": [
        "%%shell\n",
        "gcc leap_year_finder.c -o leap_year_finder\n",
        "./leap_year_finder"
      ],
      "execution_count": null,
      "outputs": [
        {
          "output_type": "stream",
          "name": "stdout",
          "text": [
            "The year 1990 is leap is not leap year"
          ]
        },
        {
          "output_type": "execute_result",
          "data": {
            "text/plain": [
              ""
            ]
          },
          "metadata": {},
          "execution_count": 10
        }
      ]
    },
    {
      "cell_type": "code",
      "metadata": {
        "id": "fnz1H_jV5wXF",
        "colab": {
          "base_uri": "https://localhost:8080/"
        },
        "outputId": "899b1306-354b-43be-c0d6-a7827cb2acce"
      },
      "source": [
        "%%writefile char_is_int_dt.c\n",
        "\n",
        "#include<stdio.h>\n",
        "\n",
        "int main() {\n",
        "    char a[6] = {'S', 'a', 'n', 'k', 'e', 't'};\n",
        "    printf(\"array start add %p\\n\", a);\n",
        "    printf(\"When printed as int by using d specifier value = %d\\n\", a);\n",
        "    printf(\"When printed as char by using c specifier value = %c\", a);\n",
        "\n",
        "    int aa = 5;\n",
        "    int b = aa++ + ++aa;\n",
        "    printf(\"aa = %d and b = %d\", aa, b);\n",
        "    return 0;\n",
        "}"
      ],
      "execution_count": null,
      "outputs": [
        {
          "output_type": "stream",
          "name": "stdout",
          "text": [
            "Writing char_is_int_dt.c\n"
          ]
        }
      ]
    },
    {
      "cell_type": "code",
      "metadata": {
        "id": "vFy8qku-P2z6",
        "colab": {
          "base_uri": "https://localhost:8080/"
        },
        "outputId": "d2efffe0-3558-401a-d8c9-6c375883074d"
      },
      "source": [
        "%%shell\n",
        "gcc char_is_int_dt.c -o char_is_int_dt\n",
        "./char_is_int_dt"
      ],
      "execution_count": null,
      "outputs": [
        {
          "output_type": "stream",
          "name": "stdout",
          "text": [
            "\u001b[01m\u001b[Kchar_is_int_dt.c:\u001b[m\u001b[K In function ‘\u001b[01m\u001b[Kmain\u001b[m\u001b[K’:\n",
            "\u001b[01m\u001b[Kchar_is_int_dt.c:7:63:\u001b[m\u001b[K \u001b[01;35m\u001b[Kwarning: \u001b[m\u001b[Kformat ‘\u001b[01m\u001b[K%d\u001b[m\u001b[K’ expects argument of type ‘\u001b[01m\u001b[Kint\u001b[m\u001b[K’, but argument 2 has type ‘\u001b[01m\u001b[Kchar *\u001b[m\u001b[K’ [\u001b[01;35m\u001b[K-Wformat=\u001b[m\u001b[K]\n",
            "     printf(\"When printed as int by using d specifier value = \u001b[01;35m\u001b[K%d\u001b[m\u001b[K\\n\", \u001b[32m\u001b[Ka\u001b[m\u001b[K);\n",
            "                                                              \u001b[01;35m\u001b[K~^\u001b[m\u001b[K     \u001b[32m\u001b[K~\u001b[m\u001b[K\n",
            "                                                              \u001b[32m\u001b[K%s\u001b[m\u001b[K\n",
            "\u001b[01m\u001b[Kchar_is_int_dt.c:8:64:\u001b[m\u001b[K \u001b[01;35m\u001b[Kwarning: \u001b[m\u001b[Kformat ‘\u001b[01m\u001b[K%c\u001b[m\u001b[K’ expects argument of type ‘\u001b[01m\u001b[Kint\u001b[m\u001b[K’, but argument 2 has type ‘\u001b[01m\u001b[Kchar *\u001b[m\u001b[K’ [\u001b[01;35m\u001b[K-Wformat=\u001b[m\u001b[K]\n",
            "     printf(\"When printed as char by using c specifier value = \u001b[01;35m\u001b[K%c\u001b[m\u001b[K\", \u001b[32m\u001b[Ka\u001b[m\u001b[K);\n",
            "                                                               \u001b[01;35m\u001b[K~^\u001b[m\u001b[K   \u001b[32m\u001b[K~\u001b[m\u001b[K\n",
            "                                                               \u001b[32m\u001b[K%s\u001b[m\u001b[K\n",
            "array start add 0x7fffdaf94062\n",
            "When printed as int by using d specifier value = -621199262\n",
            "When printed as char by using c specifier value = baa = 7 and b = 12"
          ]
        },
        {
          "output_type": "execute_result",
          "data": {
            "text/plain": [
              ""
            ]
          },
          "metadata": {},
          "execution_count": 3
        }
      ]
    },
    {
      "cell_type": "markdown",
      "metadata": {
        "id": "QrvSVHVaSxFx"
      },
      "source": [
        "3. Pre-increment or post-increment"
      ]
    },
    {
      "cell_type": "code",
      "metadata": {
        "id": "ffEg5_-ZQPvk",
        "colab": {
          "base_uri": "https://localhost:8080/"
        },
        "outputId": "ad7868e9-61e5-4c62-f6cb-c48774b89ebc"
      },
      "source": [
        "%%writefile pre_or_post_inc_or_dec.c\n",
        "\n",
        "#include<stdio.h>\n",
        "int main()\n",
        "{\n",
        "    int a = 5;\n",
        "    int b = a++ + ++a;\n",
        "    printf(\"a = %d\\n\", a);\n",
        "    printf(\"b = %d\\n\", b);\n",
        "    printf(\"a = %d\\n\", a++);\n",
        "    printf(\"a = %d\\n\", ++a);\n",
        "    printf(\"a = %d\\n\", a++);\n",
        "    printf(\"a = %d\\n\", a);\n",
        "\n",
        "    a = a++;  # Special Case for Post-increment operator: If we assign the post-incremented value to the \n",
        "              # same variable then the value of that variable will not get incremented i.e. it will remain the same like it was before.\n",
        "              # while the pre-increment and pre-decrement operators works normal in this case.\n",
        "    printf(\"a = %d\\n\", a);\n",
        "    return 0;\n",
        "}"
      ],
      "execution_count": null,
      "outputs": [
        {
          "output_type": "stream",
          "name": "stdout",
          "text": [
            "Overwriting pre_or_post_inc_or_dec.c\n"
          ]
        }
      ]
    },
    {
      "cell_type": "code",
      "metadata": {
        "id": "J21wQ2HYS-DQ",
        "colab": {
          "base_uri": "https://localhost:8080/"
        },
        "outputId": "e3be72a3-c347-42af-c7f1-25b148704e98"
      },
      "source": [
        "%%shell \n",
        "gcc pre_or_post_inc_or_dec.c -o pre_or_post_inc_or_dec\n",
        "./pre_or_post_inc_or_dec"
      ],
      "execution_count": null,
      "outputs": [
        {
          "output_type": "stream",
          "name": "stdout",
          "text": [
            "a = 7\n",
            "b = 12\n",
            "a = 7\n",
            "a = 9\n",
            "a = 9\n",
            "a = 10\n",
            "a = 10\n"
          ]
        },
        {
          "output_type": "execute_result",
          "data": {
            "text/plain": [
              ""
            ]
          },
          "metadata": {},
          "execution_count": 8
        }
      ]
    },
    {
      "cell_type": "markdown",
      "metadata": {
        "id": "UhIB2zdGty6C"
      },
      "source": [
        "4. large value storage effects"
      ]
    },
    {
      "cell_type": "code",
      "metadata": {
        "colab": {
          "base_uri": "https://localhost:8080/"
        },
        "id": "lxDaW3EGt9tz",
        "outputId": "4ed852d3-fbf1-403d-dde0-65bc3455cf1c"
      },
      "source": [
        "%%writefile storage_overflow.c\n",
        "\n",
        "#define pf(x) printf(\"The value of num = %d\\n\", x)\n",
        "\n",
        "#include<stdio.h>\n",
        "#include<stdint.h>\n",
        "\n",
        "int main() {\n",
        "    uint8_t u_num = 300;\n",
        "    int8_t s_num = 130;\n",
        "    pf(u_num);\n",
        "    pf(s_num);\n",
        "    return 0;\n",
        "}"
      ],
      "execution_count": null,
      "outputs": [
        {
          "output_type": "stream",
          "name": "stdout",
          "text": [
            "Overwriting storage_overflow.c\n"
          ]
        }
      ]
    },
    {
      "cell_type": "code",
      "metadata": {
        "colab": {
          "base_uri": "https://localhost:8080/"
        },
        "id": "NtsgIJyEvuhk",
        "outputId": "1de42c71-4882-4f4d-f74b-2b761c714bc5"
      },
      "source": [
        "%%shell\n",
        "gcc storage_overflow.c -o storage_overflow\n",
        "./storage_overflow"
      ],
      "execution_count": null,
      "outputs": [
        {
          "output_type": "stream",
          "name": "stdout",
          "text": [
            "\u001b[01m\u001b[Kstorage_overflow.c:\u001b[m\u001b[K In function ‘\u001b[01m\u001b[Kmain\u001b[m\u001b[K’:\n",
            "\u001b[01m\u001b[Kstorage_overflow.c:8:21:\u001b[m\u001b[K \u001b[01;35m\u001b[Kwarning: \u001b[m\u001b[Klarge integer implicitly truncated to unsigned type [\u001b[01;35m\u001b[K-Woverflow\u001b[m\u001b[K]\n",
            "     uint8_t u_num = \u001b[01;35m\u001b[K300\u001b[m\u001b[K;\n",
            "                     \u001b[01;35m\u001b[K^~~\u001b[m\u001b[K\n",
            "\u001b[01m\u001b[Kstorage_overflow.c:16:50:\u001b[m\u001b[K \u001b[01;31m\u001b[Kerror: \u001b[m\u001b[Kstray ‘\u001b[01m\u001b[K#\u001b[m\u001b[K’ in program\n",
            "     printf(\"%d %d\",*(char*)ptr,++(*(char*)ptr)); \u001b[01;31m\u001b[K#\u001b[m\u001b[K//second %d executed first\n",
            "                                                  \u001b[01;31m\u001b[K^\u001b[m\u001b[K\n",
            "The value of num = 44\n",
            "The value of num = -126\n",
            "11 10\n",
            "12 12"
          ]
        },
        {
          "output_type": "execute_result",
          "data": {
            "text/plain": [
              ""
            ]
          },
          "metadata": {},
          "execution_count": 16
        }
      ]
    },
    {
      "cell_type": "markdown",
      "metadata": {
        "id": "n_8gZNK4daS1"
      },
      "source": [
        "5. ptr and pre/post increment/decrement puzzles"
      ]
    },
    {
      "cell_type": "code",
      "metadata": {
        "colab": {
          "base_uri": "https://localhost:8080/"
        },
        "id": "1lq8KSGCv2Qk",
        "outputId": "56633833-cdfe-4206-89c4-ea06222b6ef4"
      },
      "source": [
        "%%writefile intvw_code1.c\n",
        "\n",
        "#include<stdio.h>\n",
        "\n",
        "int main() {\n",
        "  char var = 10;\n",
        "  void *ptr = &var;\n",
        "  #//second %d executed first\n",
        "  printf(\"%d %d\\n\",++(*(char*)ptr),*(char*)ptr); \n",
        "  printf(\"%d %d\",*(char*)ptr,++(*(char*)ptr));\n",
        "  return 0;  \n",
        "}"
      ],
      "execution_count": null,
      "outputs": [
        {
          "output_type": "stream",
          "name": "stdout",
          "text": [
            "Overwriting intvw_code1.c\n"
          ]
        }
      ]
    },
    {
      "cell_type": "code",
      "metadata": {
        "colab": {
          "base_uri": "https://localhost:8080/"
        },
        "id": "5MA-_a6TAL-f",
        "outputId": "f5351675-2d41-425c-8c81-fc25ed39c45f"
      },
      "source": [
        "%%shell\n",
        "gcc intvw_code1.c -o intvw_code1\n",
        "./intvw_code1"
      ],
      "execution_count": null,
      "outputs": [
        {
          "output_type": "stream",
          "name": "stdout",
          "text": [
            "\u001b[01m\u001b[Kintvw_code1.c:\u001b[m\u001b[K In function ‘\u001b[01m\u001b[Kmain\u001b[m\u001b[K’:\n",
            "\u001b[01m\u001b[Kintvw_code1.c:8:50:\u001b[m\u001b[K \u001b[01;31m\u001b[Kerror: \u001b[m\u001b[Kstray ‘\u001b[01m\u001b[K#\u001b[m\u001b[K’ in program\n",
            "   printf(\"%d %d\\n\",++(*(char*)ptr),*(char*)ptr); \u001b[01;31m\u001b[K#\u001b[m\u001b[K//second %d executed first\n",
            "                                                  \u001b[01;31m\u001b[K^\u001b[m\u001b[K\n",
            "11 10\n",
            "12 12"
          ]
        },
        {
          "output_type": "execute_result",
          "data": {
            "text/plain": [
              ""
            ]
          },
          "metadata": {},
          "execution_count": 32
        }
      ]
    },
    {
      "cell_type": "markdown",
      "metadata": {
        "id": "zk-iSSQx_lFL"
      },
      "source": [
        "6. Linked list"
      ]
    },
    {
      "cell_type": "code",
      "metadata": {
        "id": "CG1FIxmtAT0j",
        "colab": {
          "base_uri": "https://localhost:8080/"
        },
        "outputId": "72907b14-55b5-4927-e032-1fc3e84c3376"
      },
      "source": [
        "%%writefile linked_list.c\n",
        "\n",
        "#include<stdio.h>\n",
        "#include<stdlib.h>\n",
        "\n",
        "#// Create ll node\n",
        "struct Node {\n",
        "    int data;\n",
        "    struct Node* ptr_next_node;\n",
        "};\n",
        "\n",
        "typedef struct Node node_type;\n",
        "typedef struct Node* node_ptr_type;\n",
        "\n",
        "void print_ll(node_ptr_type ptr_node) {\n",
        "    int node_cnt = 0;\n",
        "    while(ptr_node != NULL) {\n",
        "        printf(\"The value at node %d of LL is %d\\n\",++node_cnt, ptr_node->data);\n",
        "        ptr_node = ptr_node->ptr_next_node;\n",
        "    }\n",
        "}\n",
        "\n",
        "int insert_node_at_begining(node_ptr_type* dptr_head, int node_data) {\n",
        "    int insert_status = -1;\n",
        "    #//create new  node ptr and allocate mem\n",
        "    node_ptr_type new_node_ptr = NULL;\n",
        "    new_node_ptr = (node_ptr_type)malloc(1*sizeof(node_type));\n",
        "    if(new_node_ptr != NULL) {\n",
        "        new_node_ptr->data = node_data;\n",
        "        new_node_ptr->ptr_next_node = *dptr_head;\n",
        "        *dptr_head = new_node_ptr;\n",
        "        insert_status = 1;\n",
        "    }\n",
        "    return insert_status;\n",
        "}\n",
        "\n",
        "int insert_node_after_specific_node(node_ptr_type* dptr_head, int node_pos, int node_data) {\n",
        "    int insert_status = -1;\n",
        "    #//get the address of the node after which insertion is \n",
        "    node_ptr_type temp_node_ptr = *dptr_head;\n",
        "    for(int itr=1; itr<node_pos; itr++) {\n",
        "        temp_node_ptr = temp_node_ptr->ptr_next_node;\n",
        "    }\n",
        "\n",
        "    #//create new node ptr and allocate mem\n",
        "    node_ptr_type new_node_ptr = NULL;\n",
        "    new_node_ptr = (node_ptr_type)malloc(1*sizeof(node_type));\n",
        "    #//insert new node afte node_pos node\n",
        "    if(new_node_ptr != NULL) {\n",
        "    new_node_ptr->data = node_data;\n",
        "    new_node_ptr->ptr_next_node = temp_node_ptr->ptr_next_node;\n",
        "    temp_node_ptr->ptr_next_node = new_node_ptr;\n",
        "    insert_status = 0;\n",
        "    }\n",
        "    return insert_status;\n",
        "}\n",
        "\n",
        "int main() {\n",
        "    #//Head ptr, it is just pointer of 4 bytes(32-bit system) which points to struct Node\n",
        "    node_ptr_type ptr_head = NULL;\n",
        "    #//first node\n",
        "    node_ptr_type ptr_first_node = NULL;\n",
        "    #//second node\n",
        "    node_ptr_type ptr_second_node = NULL;\n",
        "\n",
        "    #//allocate memory\n",
        "    ptr_first_node =(node_ptr_type)malloc(1*sizeof(node_type));\n",
        "    ptr_second_node = (node_ptr_type)malloc(1*sizeof(node_type));\n",
        "\n",
        "    #//create first node\n",
        "    if(ptr_first_node != NULL) {\n",
        "    ptr_first_node->data = 1;\n",
        "    ptr_first_node->ptr_next_node = ptr_second_node;\n",
        "    ptr_head = ptr_first_node;\n",
        "    } else { }\n",
        "    #//create second \n",
        "    if(ptr_second_node != NULL) {\n",
        "    ptr_second_node->data = 2;\n",
        "    ptr_second_node->ptr_next_node = NULL;\n",
        "    } else { }\n",
        "    printf(\"LL before inserting new node\\n\");\n",
        "    print_ll(ptr_head);\n",
        "    #//add node at the start\n",
        "    #//here double ptr used becuase here pass by ref is used to change the address hold by head of LL.\n",
        "    #//In pass by ref of single ptr, value hold by ptr is changed. But here we want to change address value so double ptr.\n",
        "    #//thumb rule: if it is needed to change value of variable in function --> use single ptr\n",
        "    #//          : if it is needed to change address hold by ptr in function --> use double ptr\n",
        "    if(insert_node_at_begining(&ptr_head, 3)) printf(\"\\nNew node inserted at the begining of LL \\n\");\n",
        "    else printf(\"New node insertion \\n\");\n",
        "    #//Print the LL\n",
        "    printf(\"\\nLL after inserting new node\\n\");\n",
        "    print_ll(ptr_head);\n",
        "    #//inser node after 2nd node\n",
        "    insert_node_after_specific_node(&ptr_head, 2, 77);\n",
        "    #//Print the LL\n",
        "    printf(\"\\nLL after inserting new node\\n\");\n",
        "    print_ll(ptr_head);\n",
        "    #//delete/free all the node ptrs\n",
        "    free(ptr_first_node);\n",
        "    ptr_first_node = NULL;\n",
        "    free(ptr_second_node);\n",
        "    ptr_second_node = NULL;\n",
        "    ptr_head = NULL;\n",
        "\n",
        "    return 0;\n",
        "}"
      ],
      "execution_count": null,
      "outputs": [
        {
          "output_type": "stream",
          "name": "stdout",
          "text": [
            "Overwriting linked_list.c\n"
          ]
        }
      ]
    },
    {
      "cell_type": "code",
      "metadata": {
        "colab": {
          "base_uri": "https://localhost:8080/"
        },
        "id": "QyveJEwmGR94",
        "outputId": "a3bfca9d-9463-4672-dbeb-ff5906201bc9"
      },
      "source": [
        "%%shell\n",
        "gcc linked_list.c -o linked_list\n",
        "./linked_list"
      ],
      "execution_count": null,
      "outputs": [
        {
          "output_type": "stream",
          "name": "stdout",
          "text": [
            "LL before inserting new node\n",
            "The value at node 1 of LL is 1\n",
            "The value at node 2 of LL is 2\n",
            "\n",
            "New node inserted at the begining of LL \n",
            "\n",
            "LL after inserting new node\n",
            "The value at node 1 of LL is 3\n",
            "The value at node 2 of LL is 1\n",
            "The value at node 3 of LL is 2\n",
            "\n",
            "LL after inserting new node\n",
            "The value at node 1 of LL is 3\n",
            "The value at node 2 of LL is 1\n",
            "The value at node 3 of LL is 77\n",
            "The value at node 4 of LL is 2\n"
          ]
        },
        {
          "output_type": "execute_result",
          "data": {
            "text/plain": [
              ""
            ]
          },
          "metadata": {},
          "execution_count": 40
        }
      ]
    },
    {
      "cell_type": "markdown",
      "source": [
        "All about static, global, extern in multiple files"
      ],
      "metadata": {
        "id": "s6_AdjUpVrWW"
      }
    },
    {
      "cell_type": "code",
      "metadata": {
        "id": "7GnJYgrmGZOX",
        "outputId": "c6fe84ce-642a-4693-fb80-34d11557552b",
        "colab": {
          "base_uri": "https://localhost:8080/"
        }
      },
      "source": [
        "%%writefile global_static.c\n",
        "\n",
        "#include<stdio.h>\n",
        "\n",
        "static int a = 10;\n",
        "int main() {\n",
        "    int a = 20;\n",
        "    printf(\"The value of a and a are: a = %d, a = %d\", a, a);\n",
        "    return 0;\n",
        "}"
      ],
      "execution_count": null,
      "outputs": [
        {
          "output_type": "stream",
          "name": "stdout",
          "text": [
            "Writing global_static.c\n"
          ]
        }
      ]
    },
    {
      "cell_type": "code",
      "source": [
        "%%shell\n",
        "gcc global_static.c -o global_static\n",
        "./global_static"
      ],
      "metadata": {
        "id": "ANC3QaRUWsBf",
        "outputId": "9c1ec77c-cd92-416f-a336-98295c94be1c",
        "colab": {
          "base_uri": "https://localhost:8080/"
        }
      },
      "execution_count": null,
      "outputs": [
        {
          "output_type": "stream",
          "name": "stdout",
          "text": [
            "The value of a and a are: a = 20, a = 20"
          ]
        },
        {
          "output_type": "execute_result",
          "data": {
            "text/plain": [
              ""
            ]
          },
          "metadata": {},
          "execution_count": 27
        }
      ]
    },
    {
      "cell_type": "markdown",
      "source": [
        "static and extern in multiple files"
      ],
      "metadata": {
        "id": "fQGt6d8ggDYD"
      }
    },
    {
      "cell_type": "code",
      "source": [
        "%%writefile file1.c\n",
        "#include<stdio.h>\n",
        "int* static_access_func();\n",
        "int a = 100;\n",
        "extern int b; #//issue with this statement if b is static in another file, issue: undefined reference to `b'\n",
        "extern int c;\n",
        "int main() {\n",
        "    int* b_ptr = (static_access_func());\n",
        "  printf(\"a = %d, b = %d, b_val = %d, c = %d\", a, b, *b_ptr, c);\n",
        "  return 0;\n",
        "}\n"
      ],
      "metadata": {
        "id": "c1tqoXlEWxvZ",
        "colab": {
          "base_uri": "https://localhost:8080/"
        },
        "outputId": "6577e946-b031-4996-9cc1-5c42bc95042b"
      },
      "execution_count": 15,
      "outputs": [
        {
          "output_type": "stream",
          "name": "stdout",
          "text": [
            "Overwriting file1.c\n"
          ]
        }
      ]
    },
    {
      "cell_type": "code",
      "source": [
        "%%writefile file2.c\n",
        "#//static int b = 20;\n",
        "int b = 20;\n",
        "int c = 100;\n",
        "int* static_access_func() {\n",
        "    return &b;\n",
        "}\n",
        "\n"
      ],
      "metadata": {
        "colab": {
          "base_uri": "https://localhost:8080/"
        },
        "id": "qzlTOSBJuPNJ",
        "outputId": "363a5cd7-a252-4109-b777-2a390dab1dd0"
      },
      "execution_count": 16,
      "outputs": [
        {
          "output_type": "stream",
          "name": "stdout",
          "text": [
            "Overwriting file2.c\n"
          ]
        }
      ]
    },
    {
      "cell_type": "code",
      "source": [
        "%%shell\n",
        "gcc file1.c -o file1.o -c\n",
        "gcc file2.c -o file2.o -c\n",
        "gcc -o myprog file1.o file2.o\n",
        "./myprog"
      ],
      "metadata": {
        "colab": {
          "base_uri": "https://localhost:8080/"
        },
        "id": "hJZszJvCnZp9",
        "outputId": "9db40a1d-d13d-4d33-b0eb-c936a94cf502"
      },
      "execution_count": 17,
      "outputs": [
        {
          "output_type": "stream",
          "name": "stdout",
          "text": [
            "\u001b[01m\u001b[Kfile1.c:4:15:\u001b[m\u001b[K \u001b[01;31m\u001b[Kerror: \u001b[m\u001b[Kstray ‘\u001b[01m\u001b[K#\u001b[m\u001b[K’ in program\n",
            " extern int b; \u001b[01;31m\u001b[K#\u001b[m\u001b[K//issue with this statement if b is static in another file, issue: undefined reference to `b'\n",
            "               \u001b[01;31m\u001b[K^\u001b[m\u001b[K\n",
            "a = 100, b = 20, b_val = 20, c = 100"
          ]
        },
        {
          "output_type": "execute_result",
          "data": {
            "text/plain": [
              ""
            ]
          },
          "metadata": {},
          "execution_count": 17
        }
      ]
    },
    {
      "cell_type": "code",
      "source": [
        "%%writefile const_volatile.c\n",
        "\n",
        "#include<stdio.h>\n",
        "#include<stdint.h>\n",
        "\n",
        "int main() \n",
        "{\n",
        "    uint32_t const volatile a = 10;\n",
        "    uint32_t* ptr = &a;           \n",
        "    *ptr = 20;\n",
        "    #// a = 30;  will throw error: assignment of read-only variable ‘a’\n",
        "    printf(\"The value of the a is: %d\", a);\n",
        "    return 0;\n",
        "}"
      ],
      "metadata": {
        "id": "fSjIqWC_onOY",
        "outputId": "2ca5d413-43a7-4856-ac9c-3a1b7133f29a",
        "colab": {
          "base_uri": "https://localhost:8080/"
        }
      },
      "execution_count": null,
      "outputs": [
        {
          "output_type": "stream",
          "name": "stdout",
          "text": [
            "Overwriting const_volatile.c\n"
          ]
        }
      ]
    },
    {
      "cell_type": "code",
      "source": [
        "%%shell\n",
        "gcc const_volatile.c -o const_volatile\n",
        "./const_volatile"
      ],
      "metadata": {
        "id": "PlSu4CZ-ugD3",
        "outputId": "749e2129-2252-4946-cfce-dc5e767cae7e",
        "colab": {
          "base_uri": "https://localhost:8080/"
        }
      },
      "execution_count": null,
      "outputs": [
        {
          "output_type": "stream",
          "name": "stdout",
          "text": [
            "\u001b[01m\u001b[Kconst_volatile.c:\u001b[m\u001b[K In function ‘\u001b[01m\u001b[Kmain\u001b[m\u001b[K’:\n",
            "\u001b[01m\u001b[Kconst_volatile.c:8:21:\u001b[m\u001b[K \u001b[01;35m\u001b[Kwarning: \u001b[m\u001b[Kinitialization discards ‘\u001b[01m\u001b[Kconst volatile\u001b[m\u001b[K’ qualifier from pointer target type [\u001b[01;35m\u001b[K-Wdiscarded-qualifiers\u001b[m\u001b[K]\n",
            "     uint32_t* ptr = \u001b[01;35m\u001b[K&\u001b[m\u001b[Ka;\n",
            "                     \u001b[01;35m\u001b[K^\u001b[m\u001b[K\n",
            "The value of the a is: 20"
          ]
        },
        {
          "output_type": "execute_result",
          "data": {
            "text/plain": [
              ""
            ]
          },
          "metadata": {},
          "execution_count": 7
        }
      ]
    },
    {
      "cell_type": "code",
      "source": [
        ""
      ],
      "metadata": {
        "id": "Bbzz_uVJvYiw"
      },
      "execution_count": null,
      "outputs": []
    }
  ]
}