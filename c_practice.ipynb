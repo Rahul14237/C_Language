{
  "nbformat": 4,
  "nbformat_minor": 0,
  "metadata": {
    "colab": {
      "name": "c_practice.ipynb",
      "provenance": [],
      "collapsed_sections": [],
      "authorship_tag": "ABX9TyMDrcfSKHOo+CBsbK8L3vQT",
      "include_colab_link": true
    },
    "kernelspec": {
      "name": "python3",
      "display_name": "Python 3"
    },
    "language_info": {
      "name": "python"
    }
  },
  "cells": [
    {
      "cell_type": "markdown",
      "metadata": {
        "id": "view-in-github",
        "colab_type": "text"
      },
      "source": [
        "<a href=\"https://colab.research.google.com/github/Rahul14237/C_language/blob/main/c_practice.ipynb\" target=\"_parent\"><img src=\"https://colab.research.google.com/assets/colab-badge.svg\" alt=\"Open In Colab\"/></a>"
      ]
    },
    {
      "cell_type": "markdown",
      "metadata": {
        "id": "KH_7Q_WtcPyo"
      },
      "source": [
        "C practice"
      ]
    },
    {
      "cell_type": "markdown",
      "metadata": {
        "id": "lEqy681ScRIO"
      },
      "source": [
        "1. Problem statement: Given the array nums, for each nums[i] find out how many numbers in the array are smaller than it. That is, for each nums[i] you have to count the number of valid j's such that j!=i and nums[i] < nums[i].\n",
        "Return the answer in an array.\n",
        "Input: nums = [8, 1, 2, 2, 3]\n",
        "Output: [4, 0, 1, 1, 3]\n",
        "\n"
      ]
    },
    {
      "cell_type": "code",
      "metadata": {
        "colab": {
          "base_uri": "https://localhost:8080/"
        },
        "id": "KgscbcjudeNd",
        "outputId": "b3feb49d-b01e-449b-ac49-26c2e4aaa54b"
      },
      "source": [
        "%%writefile min_num_count_array.c\n",
        "\n",
        "#include <stdio.h>\n",
        "\n",
        "int main() {\n",
        "    int g_nums[] = {8,1,2,2,3};\n",
        "    int g_nums_size = sizeof(g_nums)/sizeof(int);\n",
        "    printf(\"g_nums_size= %d\\n\", g_nums_size);\n",
        "    int g_output[g_nums_size];\n",
        "    \n",
        "    #// iterate through g_nums to get pick one value at a time\n",
        "    for(int min_count_itr = 0; min_count_itr<g_nums_size; min_count_itr++) {\n",
        "        int current_val = g_nums[min_count_itr];\n",
        "        int min_num_counter = 0;\n",
        "        #// iterate trough g_nums to compare current value with all elements in aaray except itself\n",
        "        for(int num_itr = 0; num_itr<g_nums_size; num_itr++) {\n",
        "            if(num_itr == min_count_itr) {\n",
        "                #// Do nothing\n",
        "            }\n",
        "            else if(g_nums[num_itr] < current_val) {\n",
        "                min_num_counter ++;\n",
        "            }\n",
        "            else {\n",
        "                #// Do nothing                \n",
        "            }       \n",
        "        }\n",
        "        g_output[min_count_itr] = min_num_counter;\n",
        "    }\n",
        "\n",
        "    printf(\"output = [\");\n",
        "    for(int itr=0; itr<g_nums_size; itr++) {\n",
        "        printf(\"%d \", g_output[itr]);\n",
        "    }\n",
        "    printf(\"]\");\n",
        "    return 0;\n",
        "}"
      ],
      "execution_count": null,
      "outputs": [
        {
          "output_type": "stream",
          "name": "stdout",
          "text": [
            "Writing min_num_count_array.c\n"
          ]
        }
      ]
    },
    {
      "cell_type": "code",
      "metadata": {
        "colab": {
          "base_uri": "https://localhost:8080/"
        },
        "id": "Q7ZRnfk8ga-Q",
        "outputId": "b96a7e1f-4e61-47fc-f045-7a66fa37e3dc"
      },
      "source": [
        "ls -l # see the file"
      ],
      "execution_count": null,
      "outputs": [
        {
          "output_type": "stream",
          "name": "stdout",
          "text": [
            "total 12\n",
            "-rw-r--r-- 1 root root 1003 Oct 13 17:25 bit_reversal.c\n",
            "-rw-r--r-- 1 root root 1076 Oct 13 17:28 min_num_count_array.c\n",
            "drwxr-xr-x 1 root root 4096 Oct  8 13:45 \u001b[0m\u001b[01;34msample_data\u001b[0m/\n"
          ]
        }
      ]
    },
    {
      "cell_type": "code",
      "metadata": {
        "colab": {
          "base_uri": "https://localhost:8080/"
        },
        "id": "XO-KZKrIglYJ",
        "outputId": "7a3bfbaf-872f-40c4-cd10-23caa132eab3"
      },
      "source": [
        "%%shell\n",
        "\n",
        "gcc min_num_count_array.c -o min_num_count_array\n",
        "./min_num_count_array"
      ],
      "execution_count": null,
      "outputs": [
        {
          "output_type": "stream",
          "name": "stdout",
          "text": [
            "g_nums_size= 5\n",
            "output = [4 0 1 1 3 ]"
          ]
        },
        {
          "output_type": "execute_result",
          "data": {
            "text/plain": [
              ""
            ]
          },
          "metadata": {},
          "execution_count": 6
        }
      ]
    },
    {
      "cell_type": "markdown",
      "metadata": {
        "id": "Dt2K2UhojGSd"
      },
      "source": [
        "2. Bit reversal using lookup table.\n",
        "  eg. 0001 1100 --> 0011 1000"
      ]
    },
    {
      "cell_type": "code",
      "metadata": {
        "colab": {
          "base_uri": "https://localhost:8080/"
        },
        "id": "tNyUWhLUkBgz",
        "outputId": "ab776356-ce04-48ec-e1ec-bf1b3982199f"
      },
      "source": [
        "%%writefile bit_reversal.c\n",
        "\n",
        "#include<stdio.h>\n",
        "\n",
        "int main() {\n",
        "    unsigned short int g_bit_reversal_lookup[16] = {\n",
        "        0b0000,\n",
        "        0b1000,\n",
        "        0b0100,\n",
        "        0b1100,\n",
        "        0b0010,\n",
        "        0b1010,\n",
        "        0b0110,\n",
        "        0b1110,\n",
        "        0b0001,\n",
        "        0b1001,\n",
        "        0b0101,\n",
        "        0b1101,\n",
        "        0b0011,\n",
        "        0b1011,\n",
        "        0b0111,\n",
        "        0b1111 };\n",
        "\n",
        "    unsigned short int g_ori_num = 0x1234; \n",
        "    unsigned short int g_bit_rev_num = 0; /* ans: 0x2C48 */\n",
        "\n",
        "    g_bit_rev_num |= (unsigned short int)(g_bit_reversal_lookup[g_ori_num & 0x000F]) << 12;\n",
        "    # //printf(\"The reversed number is: %x\\n\", g_bit_rev_num);\n",
        "    g_bit_rev_num |= (unsigned short int)(g_bit_reversal_lookup[(g_ori_num & 0x00F0) >> 4]) << 8;\n",
        "    # //printf(\"The reversed number is: %x\\n\", g_bit_rev_num);\n",
        "    g_bit_rev_num |= (unsigned short int)(g_bit_reversal_lookup[(g_ori_num & 0x0F00) >> 8]) << 4;\n",
        "    # //printf(\"The reversed number is: %x\\n\", g_bit_rev_num);\n",
        "    g_bit_rev_num |= (unsigned short int)(g_bit_reversal_lookup[(g_ori_num & 0xF000) >> 12]);\n",
        "    printf(\"The reversed number is: %x\\n\", g_bit_rev_num);\n",
        "    return 0;\n",
        "\n",
        "}"
      ],
      "execution_count": null,
      "outputs": [
        {
          "output_type": "stream",
          "name": "stdout",
          "text": [
            "Overwriting bit_reversal.c\n"
          ]
        }
      ]
    },
    {
      "cell_type": "code",
      "metadata": {
        "colab": {
          "base_uri": "https://localhost:8080/"
        },
        "id": "SHN0q2Jyktab",
        "outputId": "8fc3af6c-2240-4cba-aa73-3dc73d5fb430"
      },
      "source": [
        "ls -l # see the file"
      ],
      "execution_count": null,
      "outputs": [
        {
          "output_type": "stream",
          "name": "stdout",
          "text": [
            "total 36\n",
            "-rwxr-xr-x 1 root root 8360 Oct 13 18:13 \u001b[0m\u001b[01;32mbit_reversal\u001b[0m*\n",
            "-rw-r--r-- 1 root root 1088 Oct 13 18:15 bit_reversal.c\n",
            "-rwxr-xr-x 1 root root 8416 Oct 13 17:28 \u001b[01;32mmin_num_count_array\u001b[0m*\n",
            "-rw-r--r-- 1 root root 1076 Oct 13 17:28 min_num_count_array.c\n",
            "drwxr-xr-x 1 root root 4096 Oct  8 13:45 \u001b[01;34msample_data\u001b[0m/\n"
          ]
        }
      ]
    },
    {
      "cell_type": "code",
      "metadata": {
        "colab": {
          "base_uri": "https://localhost:8080/"
        },
        "id": "Dd2qyvWksEpJ",
        "outputId": "4643536d-156f-42ad-ceb9-d88947e574a2"
      },
      "source": [
        "%%shell\n",
        "\n",
        "gcc bit_reversal.c -o bit_reversal\n",
        "./bit_reversal"
      ],
      "execution_count": null,
      "outputs": [
        {
          "output_type": "stream",
          "name": "stdout",
          "text": [
            "The reversed number is: 2c00\n",
            "The reversed number is: 2c40\n",
            "The reversed number is: 2c48\n"
          ]
        },
        {
          "output_type": "execute_result",
          "data": {
            "text/plain": [
              ""
            ]
          },
          "metadata": {},
          "execution_count": 86
        }
      ]
    },
    {
      "cell_type": "markdown",
      "metadata": {
        "id": "DWwKURq86AoK"
      },
      "source": [
        "3. Byte reversal using shiftiing. eg. 0x1234 --> 0x3412"
      ]
    },
    {
      "cell_type": "code",
      "metadata": {
        "id": "qetT4oNH6P5m",
        "colab": {
          "base_uri": "https://localhost:8080/"
        },
        "outputId": "bca450e5-74ef-4466-9ccd-85628fd7bb7f"
      },
      "source": [
        "%%writefile byte_reversal.c\n",
        "\n",
        "#include <stdio.h>\n",
        "\n",
        "int main() {\n",
        "    unsigned int g_ori_num = 0x12345678;\n",
        "    unsigned int g_rev_num = 0;\n",
        "\n",
        "    g_rev_num |= (g_ori_num & 0x000000FF) << 24;\n",
        "    g_rev_num |= (g_ori_num & 0x0000FF00) << 8;\n",
        "    g_rev_num |= (g_ori_num & 0x00FF0000) >> 8;\n",
        "    g_rev_num |= (g_ori_num & 0xFF000000) >> 24;\n",
        "\n",
        "    printf(\"The reversed number is: %x\", g_rev_num);\n",
        "    return 0;\n",
        "\n",
        "}\n"
      ],
      "execution_count": null,
      "outputs": [
        {
          "output_type": "stream",
          "name": "stdout",
          "text": [
            "Writing byte_reversal.c\n"
          ]
        }
      ]
    },
    {
      "cell_type": "code",
      "metadata": {
        "id": "BTSePWQ--wiZ",
        "colab": {
          "base_uri": "https://localhost:8080/"
        },
        "outputId": "b14f6168-114e-4bce-f02e-a43ea7f50401"
      },
      "source": [
        "ls -l"
      ],
      "execution_count": null,
      "outputs": [
        {
          "output_type": "stream",
          "name": "stdout",
          "text": [
            "total 52\n",
            "-rwxr-xr-x 1 root root 8360 Oct 13 18:15 \u001b[0m\u001b[01;32mbit_reversal\u001b[0m*\n",
            "-rw-r--r-- 1 root root 1088 Oct 13 18:15 bit_reversal.c\n",
            "-rwxr-xr-x 1 root root 8312 Oct 13 18:46 \u001b[01;32mbyte_reversal\u001b[0m*\n",
            "-rw-r--r-- 1 root root  372 Oct 13 18:45 byte_reversal.c\n",
            "-rwxr-xr-x 1 root root 8416 Oct 13 17:28 \u001b[01;32mmin_num_count_array\u001b[0m*\n",
            "-rw-r--r-- 1 root root 1076 Oct 13 17:28 min_num_count_array.c\n",
            "drwxr-xr-x 1 root root 4096 Oct  8 13:45 \u001b[01;34msample_data\u001b[0m/\n"
          ]
        }
      ]
    },
    {
      "cell_type": "code",
      "metadata": {
        "id": "30K4ZYqo-bSp",
        "colab": {
          "base_uri": "https://localhost:8080/"
        },
        "outputId": "73f92685-aa0a-4e3d-f3dc-0a601beaf4ed"
      },
      "source": [
        "%%shell\n",
        "\n",
        "gcc byte_reversal.c -o byte_reversal\n",
        "./byte_reversal"
      ],
      "execution_count": null,
      "outputs": [
        {
          "output_type": "stream",
          "name": "stdout",
          "text": [
            "The reversed number is: 78563412"
          ]
        },
        {
          "output_type": "execute_result",
          "data": {
            "text/plain": [
              ""
            ]
          },
          "metadata": {},
          "execution_count": 91
        }
      ]
    },
    {
      "cell_type": "markdown",
      "metadata": {
        "id": "xuv7deM0SUmK"
      },
      "source": [
        "Link: *https://quescol.com/interview-preparation/c-program-to-reverse-a-number*\n",
        "\n",
        "4. Reverse a number. eg. 123 --> 321"
      ]
    },
    {
      "cell_type": "code",
      "metadata": {
        "colab": {
          "base_uri": "https://localhost:8080/"
        },
        "id": "Xf1UxWGBToor",
        "outputId": "88045fb5-8a60-4e75-9526-9d5380cf9e3f"
      },
      "source": [
        "%%writefile num_reversal.c\n",
        "\n",
        "#include<stdio.h> \n",
        "#include<stdint.h>\n",
        "\n",
        "int main() {\n",
        "    uint16_t g_ori_num = 123;\n",
        "    uint16_t g_rev_num = 0;\n",
        "        \n",
        "    while(g_ori_num) {\n",
        "      g_rev_num = g_rev_num * 10 + g_ori_num % 10;\n",
        "      g_ori_num /= 10;\n",
        "      printf(\"the reversed num is %d\\r\\n\", g_rev_num);\n",
        "    }\n",
        "    return 0;\n",
        "}"
      ],
      "execution_count": null,
      "outputs": [
        {
          "output_type": "stream",
          "name": "stdout",
          "text": [
            "Overwriting num_reversal.c\n"
          ]
        }
      ]
    },
    {
      "cell_type": "code",
      "metadata": {
        "colab": {
          "base_uri": "https://localhost:8080/"
        },
        "id": "MKTfFXZnWTjb",
        "outputId": "58ae4488-55bb-4d52-a342-895523db4993"
      },
      "source": [
        "%%shell\n",
        "gcc num_reversal.c -o num_reversal\n",
        "./num_reversal"
      ],
      "execution_count": null,
      "outputs": [
        {
          "output_type": "stream",
          "name": "stdout",
          "text": [
            "the reversed num is 3\r\n",
            "the reversed num is 32\r\n",
            "the reversed num is 321\r\n"
          ]
        },
        {
          "output_type": "execute_result",
          "data": {
            "text/plain": [
              ""
            ]
          },
          "metadata": {},
          "execution_count": 8
        }
      ]
    },
    {
      "cell_type": "markdown",
      "metadata": {
        "id": "azJzolXzX_6w"
      },
      "source": [
        "5. Check num is armstrong/narssistic num or not. eg. 153 is armstrong no.\n",
        "\n",
        "explanation:\n",
        "\n",
        "        no. of digits = 3\n",
        "        so 1^3 + 5^3 + 3^3 = 1 + 125 + 27 = 153"
      ]
    },
    {
      "cell_type": "code",
      "metadata": {
        "colab": {
          "base_uri": "https://localhost:8080/"
        },
        "id": "198QUmtjWotB",
        "outputId": "fbde9a77-54bd-4e78-d0ce-c4100f6f26cb"
      },
      "source": [
        "%%writefile armstrong_num_checker.c\n",
        "\n",
        "#include <stdio.h>\n",
        "#include <stdint.h>\n",
        "#include <math.h>\n",
        "\n",
        "int main() {\n",
        "    int16_t g_ori_num = 153;\n",
        "    uint8_t g_no_of_digits = 0;\n",
        "    int16_t g_ori_num_cpy = g_ori_num;\n",
        "    int16_t g_sum = 0;\n",
        "\n",
        "    # // calculate # digits\n",
        "    while(g_ori_num) {\n",
        "        g_ori_num /= 10;\n",
        "        g_no_of_digits ++;\n",
        "    }\n",
        "    g_ori_num = g_ori_num_cpy;\n",
        "\n",
        "    # //num sum to check \"arstrong num\"\n",
        "    while(g_ori_num) {\n",
        "        g_sum += pow(g_ori_num % 10, g_no_of_digits);; \n",
        "        g_ori_num /= 10;\n",
        "    }\n",
        "\n",
        "    # // check for arstrong num\n",
        "    if(g_ori_num_cpy == g_sum) {\n",
        "        printf(\"Number %d is armstrong num\", g_ori_num_cpy);\n",
        "    } else {\n",
        "        printf(\"Number %d is not armstrong num\", g_ori_num_cpy);\n",
        "    }\n",
        "    return 0;\n",
        "}"
      ],
      "execution_count": null,
      "outputs": [
        {
          "output_type": "stream",
          "name": "stdout",
          "text": [
            "Writing armstrong_num_checker.c\n"
          ]
        }
      ]
    },
    {
      "cell_type": "markdown",
      "metadata": {
        "id": "f4S6OtvyqJGH"
      },
      "source": [
        "**error: ld returned 1 exit status:** \n",
        "\n",
        "solution:\n",
        "You need to link with the math library.\n",
        "`gcc -o sphere sphere.c -lm`\n",
        "The error you are seeing: error: ld returned 1 exit status is from the linker ld (part of gcc that combines the object files) because it is unable to find where the function pow is defined.\n",
        "\n",
        "Including math.h brings in the declaration of the various functions and not their definition. The def is present in the math library libm.a. You need to link your program with this library so that the calls to functions like pow() are resolved.\n"
      ]
    },
    {
      "cell_type": "code",
      "metadata": {
        "colab": {
          "base_uri": "https://localhost:8080/"
        },
        "id": "l3yTS9aHm29r",
        "outputId": "ab83ed0a-79de-4172-adfa-32c0b9c12cb8"
      },
      "source": [
        "%%shell\n",
        "\n",
        "gcc armstrong_num_checker.c \n",
        "gcc -o armstrong_num_checker armstrong_num_checker.c -lm\n",
        "./armstrong_num_checker"
      ],
      "execution_count": null,
      "outputs": [
        {
          "output_type": "stream",
          "name": "stdout",
          "text": [
            "/tmp/cczRkrlw.o: In function `main':\n",
            "armstrong_num_checker.c:(.text+0x98): undefined reference to `pow'\n",
            "collect2: error: ld returned 1 exit status\n",
            "Number 153 is armstrong num"
          ]
        },
        {
          "output_type": "execute_result",
          "data": {
            "text/plain": [
              ""
            ]
          },
          "metadata": {},
          "execution_count": 25
        }
      ]
    },
    {
      "cell_type": "markdown",
      "metadata": {
        "id": "y7yGCg8Gu1RD"
      },
      "source": [
        "6. Prime number checker\n"
      ]
    },
    {
      "cell_type": "code",
      "metadata": {
        "colab": {
          "base_uri": "https://localhost:8080/"
        },
        "id": "01wz_01Su8ni",
        "outputId": "3a198654-5970-4e93-f83e-8e1f51643a00"
      },
      "source": [
        "%%writefile prime_num_checker.c\n",
        "\n",
        "#include <stdio.h>\n",
        "#include <stdint.h>\n",
        "\n",
        "int main() {\n",
        "    uint16_t g_ori_num = 7;\n",
        "    uint8_t g_is_prm_num_flag = 0;\n",
        "\n",
        "    for(uint8_t itr = 2; itr <= (g_ori_num/2); itr++) {\n",
        "        if((g_ori_num % itr) == 0) {\n",
        "            g_is_prm_num_flag = 1;\n",
        "            break;\n",
        "        }\n",
        "    }\n",
        "    if(g_is_prm_num_flag == 1) {\n",
        "        printf(\"The number %d is not prime num\", g_ori_num);\n",
        "    } else {\n",
        "       printf(\"The number %d is prime num\", g_ori_num); \n",
        "    }\n",
        "    return 0;\n",
        "}\n"
      ],
      "execution_count": null,
      "outputs": [
        {
          "output_type": "stream",
          "name": "stdout",
          "text": [
            "Overwriting prime_num_checker.c\n"
          ]
        }
      ]
    },
    {
      "cell_type": "code",
      "metadata": {
        "id": "DRsZECbYk-Jz",
        "colab": {
          "base_uri": "https://localhost:8080/"
        },
        "outputId": "ba85d3a4-224e-49e9-ef10-91f247bff7ed"
      },
      "source": [
        "%%shell\n",
        "\n",
        "gcc prime_num_checker.c -o prime_num_checker\n",
        "./prime_num_checker"
      ],
      "execution_count": null,
      "outputs": [
        {
          "output_type": "stream",
          "name": "stdout",
          "text": [
            "The number 7 is prime num"
          ]
        },
        {
          "output_type": "execute_result",
          "data": {
            "text/plain": [
              ""
            ]
          },
          "metadata": {},
          "execution_count": 68
        }
      ]
    },
    {
      "cell_type": "markdown",
      "metadata": {
        "id": "8xfwJIIvlulL"
      },
      "source": [
        "7. Fibonacci series using iteration\n",
        "\n",
        "series: 0 1 1 2 3 5 8 13 21 ..."
      ]
    },
    {
      "cell_type": "code",
      "metadata": {
        "id": "YqMYSdGVmeud",
        "colab": {
          "base_uri": "https://localhost:8080/"
        },
        "outputId": "e8d21098-f027-4f52-dea3-ea4fcc343f58"
      },
      "source": [
        "%%writefile fibonacci_w_itr.c\n",
        "\n",
        "#include<stdio.h>\n",
        "#include<stdint.h>\n",
        "\n",
        "int main() {\n",
        "    uint16_t g_fibonacci_len = 10;\n",
        "    uint8_t g_first_num = 0;\n",
        "    uint8_t g_second_num = 1;\n",
        "    uint16_t g_next_num = 0;\n",
        "\n",
        "    for(uint8_t itr = 0; itr <= g_fibonacci_len; itr++) {\n",
        "        if(itr <= 1) {\n",
        "            g_next_num = itr;\n",
        "        } else {\n",
        "            g_next_num = g_first_num + g_second_num;\n",
        "            g_first_num = g_second_num;\n",
        "            g_second_num = g_next_num;\n",
        "        }\n",
        "        printf(\"%d\\r\\n\",g_next_num);\n",
        "    }\n",
        "\n",
        "    return 0;\n",
        "}"
      ],
      "execution_count": null,
      "outputs": [
        {
          "output_type": "stream",
          "name": "stdout",
          "text": [
            "Overwriting fibonacci_w_itr.c\n"
          ]
        }
      ]
    },
    {
      "cell_type": "code",
      "metadata": {
        "id": "QtJioEsfo5Cv",
        "colab": {
          "base_uri": "https://localhost:8080/"
        },
        "outputId": "6ad33ca7-03eb-4082-8825-2473aa652ff4"
      },
      "source": [
        "%%shell\n",
        "gcc fibonacci_w_itr.c -o fibonacci_w_itr\n",
        "./fibonacci_w_itr"
      ],
      "execution_count": null,
      "outputs": [
        {
          "output_type": "stream",
          "name": "stdout",
          "text": [
            "0\r\n",
            "1\r\n",
            "1\r\n",
            "2\r\n",
            "3\r\n",
            "5\r\n",
            "8\r\n",
            "13\r\n",
            "21\r\n",
            "34\r\n",
            "55\r\n"
          ]
        },
        {
          "output_type": "execute_result",
          "data": {
            "text/plain": [
              ""
            ]
          },
          "metadata": {},
          "execution_count": 72
        }
      ]
    },
    {
      "cell_type": "markdown",
      "metadata": {
        "id": "RdvbIyG0pQk5"
      },
      "source": [
        "8. Fibonacci using recursion"
      ]
    },
    {
      "cell_type": "code",
      "metadata": {
        "id": "EN9-OEwVpEfa",
        "colab": {
          "base_uri": "https://localhost:8080/"
        },
        "outputId": "09c591aa-0018-402b-b9eb-e5853159442f"
      },
      "source": [
        "%%writefile fibonacci_w_recursion.c\n",
        "\n",
        "#include<stdio.h>\n",
        "#include<stdint.h>\n",
        "\n",
        "int fibonaci_recursion_func(uint8_t l_itr);\n",
        "\n",
        "int main() {\n",
        "    uint8_t g_fibonacci_len = 6;\n",
        "    for(uint8_t itr = 0; itr < g_fibonacci_len; itr++) {\n",
        "        printf(\"%d\\r\\n\", fibonaci_recursion_func(itr));\n",
        "    }\n",
        "    if(printf(\"Hello world!\")) {}  \n",
        "    return 0;\n",
        "}\n",
        "\n",
        "int fibonaci_recursion_func(uint8_t l_itr) {\n",
        "    if(l_itr == 0 ) return 0;\n",
        "    else if(l_itr == 1) return 1;\n",
        "    else return (fibonaci_recursion_func(l_itr - 1) + fibonaci_recursion_func(l_itr - 2));\n",
        "}"
      ],
      "execution_count": null,
      "outputs": [
        {
          "output_type": "stream",
          "name": "stdout",
          "text": [
            "Overwriting fibonacci_w_recursion.c\n"
          ]
        }
      ]
    },
    {
      "cell_type": "code",
      "metadata": {
        "id": "3Hz5a1i6rg5B",
        "colab": {
          "base_uri": "https://localhost:8080/"
        },
        "outputId": "11dca190-44e1-45f6-f9d2-9c3dd43893d6"
      },
      "source": [
        "%%shell\n",
        "gcc fibonacci_w_recursion.c -o fibonacci_w_recursion\n",
        "./fibonacci_w_recursion"
      ],
      "execution_count": null,
      "outputs": [
        {
          "output_type": "stream",
          "name": "stdout",
          "text": [
            "0\r\n",
            "1\r\n",
            "1\r\n",
            "2\r\n",
            "3\r\n",
            "5\r\n",
            "Hello world!"
          ]
        },
        {
          "output_type": "execute_result",
          "data": {
            "text/plain": [
              ""
            ]
          },
          "metadata": {},
          "execution_count": 10
        }
      ]
    },
    {
      "cell_type": "markdown",
      "metadata": {
        "id": "hEPipJqHzWHk"
      },
      "source": [
        "9. Palindrome using iteration"
      ]
    },
    {
      "cell_type": "code",
      "metadata": {
        "id": "7ZM5Wa_yzkdi",
        "colab": {
          "base_uri": "https://localhost:8080/"
        },
        "outputId": "53c15bec-7ba6-4ef2-97d6-989b6c056e22"
      },
      "source": [
        "%%writefile palindrome_checker_w_itr.c\n",
        "\n",
        "#include<stdio.h>\n",
        "#include<stdint.h>\n",
        "\n",
        "\n",
        "int main() {\n",
        "    unsigned int g_input_num = 253;\n",
        "    unsigned int g_input_num_copy = g_input_num;\n",
        "    unsigned int g_rev_num = 0;\n",
        "    while(g_input_num) {\n",
        "       g_rev_num = g_rev_num * 10 + g_input_num % 10;\n",
        "       g_input_num /= 10;\n",
        "    }\n",
        "    if(g_rev_num == g_input_num_copy) {\n",
        "        printf(\"The input number %d is palindrome\", g_input_num_copy);\n",
        "    } else {\n",
        "        printf(\"The input number %d is not palindrome\", g_input_num_copy);\n",
        "    }\n",
        "    return 0;\n",
        "}"
      ],
      "execution_count": null,
      "outputs": [
        {
          "output_type": "stream",
          "name": "stdout",
          "text": [
            "Writing palindrome_checker_w_itr.c\n"
          ]
        }
      ]
    },
    {
      "cell_type": "code",
      "metadata": {
        "id": "KkwKCrCh0-5b",
        "colab": {
          "base_uri": "https://localhost:8080/"
        },
        "outputId": "5d356455-bf23-4392-f5e6-bfb2feb8c476"
      },
      "source": [
        "%%shell\n",
        "gcc palindrome_checker_w_itr.c -o palindrome_checker_w_itr\n",
        "./palindrome_checker_w_itr"
      ],
      "execution_count": null,
      "outputs": [
        {
          "output_type": "stream",
          "name": "stdout",
          "text": [
            "The input number 253 is not palindrome"
          ]
        },
        {
          "output_type": "execute_result",
          "data": {
            "text/plain": [
              ""
            ]
          },
          "metadata": {},
          "execution_count": 12
        }
      ]
    },
    {
      "cell_type": "markdown",
      "metadata": {
        "id": "s1Iu1QTU1z2S"
      },
      "source": [
        "10. Palindrome using recursion"
      ]
    },
    {
      "cell_type": "code",
      "metadata": {
        "id": "VgoAQ4kP2Bx8",
        "colab": {
          "base_uri": "https://localhost:8080/"
        },
        "outputId": "d78c461a-0b76-4fd2-e417-9dfa5ee281cb"
      },
      "source": [
        "%%writefile palindrome_checker_w_recursion.c\n",
        "\n",
        "#include<stdio.h>\n",
        "#include<stdint.h>\n",
        "\n",
        "unsigned int reversed(unsigned int );  \n",
        "\n",
        "int main() {\n",
        "    unsigned int g_input_num = 123321;\n",
        "    unsigned int g_input_num_copy = g_input_num;\n",
        "\n",
        "    if(g_input_num == reversed(g_input_num)) {\n",
        "        printf(\"The input %d number is palindrome\", g_input_num);\n",
        "    } else {\n",
        "        printf(\"The input %d number is not palindrome\", g_input_num);\n",
        "    }    \n",
        "    return 0;\n",
        "}\n",
        "\n",
        "unsigned int reversed(unsigned int l_input_num) {\n",
        "    unsigned static int s_sum = 0;\n",
        "    if(l_input_num) {\n",
        "      s_sum = s_sum*10 + l_input_num%10;\n",
        "      unsigned int garbage = reversed(l_input_num/10);  \n",
        "    } else return s_sum;\n",
        "    \n",
        "}"
      ],
      "execution_count": null,
      "outputs": [
        {
          "output_type": "stream",
          "name": "stdout",
          "text": [
            "Overwriting palindrome_checker_w_recursion.c\n"
          ]
        }
      ]
    },
    {
      "cell_type": "code",
      "metadata": {
        "colab": {
          "base_uri": "https://localhost:8080/"
        },
        "id": "p9tPxu1gP4_J",
        "outputId": "d2893eff-f0c9-42dc-a5e9-f4a0670d90cd"
      },
      "source": [
        "%%shell \n",
        "gcc palindrome_checker_w_recursion.c -o palindrome_checker_w_recursion\n",
        "./palindrome_checker_w_recursion"
      ],
      "execution_count": null,
      "outputs": [
        {
          "output_type": "stream",
          "name": "stdout",
          "text": [
            "The input 123321 number is palindrome"
          ]
        },
        {
          "output_type": "execute_result",
          "data": {
            "text/plain": [
              ""
            ]
          },
          "metadata": {},
          "execution_count": 28
        }
      ]
    },
    {
      "cell_type": "markdown",
      "metadata": {
        "id": "0_vp4OKCT_9W"
      },
      "source": [
        "11. Check if giver num is binary or not. Binary num contains only 0's and 1's."
      ]
    },
    {
      "cell_type": "code",
      "metadata": {
        "colab": {
          "base_uri": "https://localhost:8080/"
        },
        "id": "BtlzmAgNW3JS",
        "outputId": "480e3261-727b-40e2-fe3c-0564d57cb263"
      },
      "source": [
        "%%writefile binary_num_checker.c\n",
        "\n",
        "\n",
        "#include<stdio.h>\n",
        "#include<stdint.h>\n",
        "\n",
        "int main() {\n",
        "    uint32_t g_input_num = 111005001;\n",
        "    uint32_t g_input_num_copy = g_input_num;\n",
        "    while(g_input_num) {\n",
        "        uint8_t rem = g_input_num%10;\n",
        "        if((rem != 0) && (rem != 1)) {\n",
        "            printf(\"The input number %d is not binary num\", g_input_num_copy);\n",
        "            return 0;\n",
        "        } else g_input_num /= 10;   \n",
        "    } \n",
        "    printf(\"The input number %d is binary num\", g_input_num_copy); \n",
        "    return 0;\n",
        "}"
      ],
      "execution_count": null,
      "outputs": [
        {
          "output_type": "stream",
          "name": "stdout",
          "text": [
            "Overwriting binary_num_checker.c\n"
          ]
        }
      ]
    },
    {
      "cell_type": "code",
      "metadata": {
        "colab": {
          "base_uri": "https://localhost:8080/"
        },
        "id": "Cr-bfGydYkx_",
        "outputId": "46ae310d-7360-4f35-b257-ea8190f59390"
      },
      "source": [
        "%%shell\n",
        "\n",
        "gcc binary_num_checker.c -o binary_num_checker\n",
        "./binary_num_checker"
      ],
      "execution_count": null,
      "outputs": [
        {
          "output_type": "stream",
          "name": "stdout",
          "text": [
            "The input number 111005001 is not binary num"
          ]
        },
        {
          "output_type": "execute_result",
          "data": {
            "text/plain": [
              ""
            ]
          },
          "metadata": {},
          "execution_count": 59
        }
      ]
    },
    {
      "cell_type": "markdown",
      "metadata": {
        "id": "E3L0-GS_aK0M"
      },
      "source": [
        "12. sum of digits using recussion"
      ]
    },
    {
      "cell_type": "code",
      "metadata": {
        "colab": {
          "base_uri": "https://localhost:8080/"
        },
        "id": "9TXOzea7Yoms",
        "outputId": "19bff766-f914-4f64-9a43-d310738fe1e9"
      },
      "source": [
        "%%writefile digits_sum_w_recusion.c\n",
        "\n",
        "#include<stdio.h>\n",
        "#include<stdint.h>\n",
        "\n",
        "int sum_w_recusrion(int );\n",
        "\n",
        "int main() {\n",
        "    int g_input_num = 12;\n",
        "    printf(\"The sum of the digits of the num %d is %d\", g_input_num, sum_w_recusrion(g_input_num));\n",
        "    return 0;\n",
        "}\n",
        "\n",
        "int sum_w_recusrion(int l_input_num) {\n",
        "    int static s_sum = 0;\n",
        "    if(l_input_num) {\n",
        "        s_sum = s_sum + l_input_num%10;\n",
        "        int intermediate_garbage_result = sum_w_recusrion(l_input_num/10);\n",
        "    } else return s_sum;\n",
        "}"
      ],
      "execution_count": null,
      "outputs": [
        {
          "output_type": "stream",
          "name": "stdout",
          "text": [
            "Writing digits_sum_w_recusion.c\n"
          ]
        }
      ]
    },
    {
      "cell_type": "code",
      "metadata": {
        "colab": {
          "base_uri": "https://localhost:8080/"
        },
        "id": "fCZxyTnLj7gd",
        "outputId": "6dace4e8-7629-4f9e-ab71-398e9daef863"
      },
      "source": [
        "%%shell\n",
        "gcc digits_sum_w_recusion.c -o digits_sum_w_recusion\n",
        "./digits_sum_w_recusion"
      ],
      "execution_count": null,
      "outputs": [
        {
          "output_type": "stream",
          "name": "stdout",
          "text": [
            "The sum of the digits of the num 12 is 3"
          ]
        },
        {
          "output_type": "execute_result",
          "data": {
            "text/plain": [
              ""
            ]
          },
          "metadata": {},
          "execution_count": 3
        }
      ]
    },
    {
      "cell_type": "markdown",
      "metadata": {
        "id": "1lNyyVbEm6PM"
      },
      "source": [
        "13. swap numbers w or w/o third varibale"
      ]
    },
    {
      "cell_type": "code",
      "metadata": {
        "id": "6WnY1-acnIyd",
        "colab": {
          "base_uri": "https://localhost:8080/"
        },
        "outputId": "1f41b5d6-6ed6-495f-8b2a-10e0260d339d"
      },
      "source": [
        "%%writefile swap_num.c\n",
        "\n",
        "#include<stdio.h>\n",
        "#include<stdint.h>\n",
        "\n",
        "void swap_method1(uint32_t*, uint32_t*);\n",
        "void swap_method2(uint32_t*, uint32_t*);\n",
        "void swap_method3(uint32_t*, uint32_t*);\n",
        "\n",
        "int main() {\n",
        "    uint32_t g_num1 = 5;\n",
        "    uint32_t g_num2 = 10;\n",
        "    uint32_t* g_ptr_num1 = &g_num1;\n",
        "    uint32_t* g_ptr_num2 = &g_num2;\n",
        "\n",
        "    swap_method1(g_ptr_num1, g_ptr_num2);\n",
        "    printf(\"The swapped num are: num1 = %d, and num2 = %d\\r\\n\", *g_ptr_num1, *g_ptr_num2);\n",
        "    swap_method2(g_ptr_num1, g_ptr_num2);\n",
        "    printf(\"The swapped num are: num1 = %d, and num2 = %d\\r\\n\", *g_ptr_num1, *g_ptr_num2);\n",
        "    swap_method3(g_ptr_num1, g_ptr_num2);\n",
        "    printf(\"The swapped num are: num1 = %d, and num2 = %d\\r\\n\", *g_ptr_num1, *g_ptr_num2);\n",
        "\n",
        "    return 0;\n",
        "}\n",
        "\n",
        "void swap_method1(uint32_t* l_ptr_num1, uint32_t* l_ptr_num2) {\n",
        "    *l_ptr_num1 = *l_ptr_num1 + *l_ptr_num2;\n",
        "    *l_ptr_num2 = *l_ptr_num1 - *l_ptr_num2;\n",
        "    *l_ptr_num1 = *l_ptr_num1 - *l_ptr_num2;\n",
        "} \n",
        "void swap_method2(uint32_t* l_ptr_num1, uint32_t* l_ptr_num2) {\n",
        "    *l_ptr_num1 = *l_ptr_num1 ^ *l_ptr_num2;\n",
        "    *l_ptr_num2 = *l_ptr_num1 ^ *l_ptr_num2;\n",
        "    *l_ptr_num1 = *l_ptr_num1 ^ *l_ptr_num2;\n",
        "}\n",
        "void swap_method3(uint32_t* l_ptr_num1, uint32_t* l_ptr_num2) {\n",
        "    uint32_t l_temp_num = *l_ptr_num1;\n",
        "    *l_ptr_num1 = *l_ptr_num2;\n",
        "    *l_ptr_num2 = l_temp_num;\n",
        "}"
      ],
      "execution_count": 7,
      "outputs": [
        {
          "output_type": "stream",
          "name": "stdout",
          "text": [
            "Overwriting swap_num.c\n"
          ]
        }
      ]
    },
    {
      "cell_type": "code",
      "metadata": {
        "colab": {
          "base_uri": "https://localhost:8080/"
        },
        "id": "58oyHpKrNRFC",
        "outputId": "706bec1f-6ebe-4f06-a82c-42c7f36442e6"
      },
      "source": [
        "%%shell\n",
        "gcc swap_num.c -o swap_num\n",
        "./swap_num"
      ],
      "execution_count": 8,
      "outputs": [
        {
          "output_type": "stream",
          "name": "stdout",
          "text": [
            "The swapped num are: num1 = 10, and num2 = 5\r\n",
            "The swapped num are: num1 = 5, and num2 = 10\r\n",
            "The swapped num are: num1 = 10, and num2 = 5\r\n"
          ]
        },
        {
          "output_type": "execute_result",
          "data": {
            "text/plain": [
              ""
            ]
          },
          "metadata": {},
          "execution_count": 8
        }
      ]
    },
    {
      "cell_type": "markdown",
      "metadata": {
        "id": "DlYjlPi-P2_d"
      },
      "source": [
        "14. Finding prime factors numbers. eg. 6 --> prime factors = 1, 2, 3\n",
        "\n"
      ]
    },
    {
      "cell_type": "code",
      "metadata": {
        "colab": {
          "base_uri": "https://localhost:8080/"
        },
        "id": "EKQkieNlNW4J",
        "outputId": "3f06e870-1037-446c-9d99-c790134c83e5"
      },
      "source": [
        "%%writefile prime_factor_finder.c\n",
        "\n",
        "#include<stdio.h>\n",
        "#include<stdint.h>\n",
        "\n",
        "int main() {\n",
        "    int g_input_num = 512;\n",
        "\n",
        "    printf(\"prime factors are: %d, \", 1);\n",
        "    while(g_input_num%2 == 0) {\n",
        "        printf(\"%d, \", 2);\n",
        "        g_input_num /= 2;\n",
        "    }\n",
        "    for(int itr = 3; itr<=g_input_num; itr++) {\n",
        "        if(g_input_num%itr == 0) {\n",
        "            printf(\"%d, \", itr);\n",
        "        }\n",
        "    }\n",
        "\n",
        "    return 0;\n",
        "}"
      ],
      "execution_count": 36,
      "outputs": [
        {
          "output_type": "stream",
          "name": "stdout",
          "text": [
            "Overwriting prime_factor_finder.c\n"
          ]
        }
      ]
    },
    {
      "cell_type": "code",
      "metadata": {
        "colab": {
          "base_uri": "https://localhost:8080/"
        },
        "id": "R5cBQJ9SVLjD",
        "outputId": "fff89dec-e3a5-45ab-d322-a151dcc59b99"
      },
      "source": [
        "%%shell\n",
        "\n",
        "gcc prime_factor_finder.c -o prime_factor_finder\n",
        "./prime_factor_finder"
      ],
      "execution_count": 37,
      "outputs": [
        {
          "output_type": "stream",
          "name": "stdout",
          "text": [
            "prime factors are: 1, 2, 2, 2, 2, 2, 2, 2, 2, 2, "
          ]
        },
        {
          "output_type": "execute_result",
          "data": {
            "text/plain": [
              ""
            ]
          },
          "metadata": {},
          "execution_count": 37
        }
      ]
    },
    {
      "cell_type": "markdown",
      "metadata": {
        "id": "mvIlb6Lflw8S"
      },
      "source": [
        "15. Add 2 numbers w/o + operator"
      ]
    },
    {
      "cell_type": "code",
      "metadata": {
        "colab": {
          "base_uri": "https://localhost:8080/"
        },
        "id": "bzmMdJKkVTi3",
        "outputId": "6f6dafa1-5aaf-4e74-cb91-103ea9323ecf"
      },
      "source": [
        "%%writefile add_wo_+.c\n",
        "\n",
        "#include<stdio.h>\n",
        "#include<stdint.h>\n",
        "\n",
        "int main() {\n",
        "    int g_input_num1 = 10;\n",
        "    int g_input_num2 = 20;\n",
        "    int g_sum = g_input_num2;\n",
        "\n",
        "    for(uint8_t itr = 0; itr< g_input_num1; itr++) g_sum++;\n",
        "    printf(\"The addition of %d and %d is %d\", g_input_num1, g_input_num2, g_sum);\n",
        "    return 0;\n",
        "}"
      ],
      "execution_count": 41,
      "outputs": [
        {
          "output_type": "stream",
          "name": "stdout",
          "text": [
            "Overwriting add_wo_+.c\n"
          ]
        }
      ]
    },
    {
      "cell_type": "code",
      "metadata": {
        "colab": {
          "base_uri": "https://localhost:8080/"
        },
        "id": "SnkZAHLGmpH3",
        "outputId": "914e92b8-18f4-4016-91fe-bbaeb0dc0f28"
      },
      "source": [
        "%%shell\n",
        "gcc add_wo_+.c -o add_wo_+\n",
        "./add_wo_+"
      ],
      "execution_count": 42,
      "outputs": [
        {
          "output_type": "stream",
          "name": "stdout",
          "text": [
            "The addition of 10 and 20 is 30"
          ]
        },
        {
          "output_type": "execute_result",
          "data": {
            "text/plain": [
              ""
            ]
          },
          "metadata": {},
          "execution_count": 42
        }
      ]
    },
    {
      "cell_type": "markdown",
      "metadata": {
        "id": "iB9eI9bznSc4"
      },
      "source": [
        "16. Perfect number checker.\n",
        "         A perfect number is a positive integer that is equal to the sum of its positive divisors, excluding the number itself. \n",
        "\n",
        "         eg. 6 --> 1 + 2 + 3 = 6"
      ]
    },
    {
      "cell_type": "code",
      "metadata": {
        "colab": {
          "base_uri": "https://localhost:8080/"
        },
        "id": "9AEPfNgUm4I1",
        "outputId": "e07a8e21-0e55-4645-e191-c8f78c909206"
      },
      "source": [
        "%%writefile perfect_num_checker.c\n",
        "\n",
        "#include<stdio.h>\n",
        "#include<stdint.h>\n",
        "\n",
        "int main() {\n",
        "    int g_input_num = 12;\n",
        "    int g_sum = 0;\n",
        "\n",
        "    for(int itr = 1; itr < g_input_num; itr++){\n",
        "        if((g_input_num % itr) == 0) {\n",
        "            g_sum += itr;\n",
        "            #// printf(\"%d\\n\", g_sum);\n",
        "        } else {}\n",
        "    }\n",
        "    if(g_input_num == g_sum) printf(\"The input number %d is perfect number\", g_input_num);\n",
        "    else printf(\"The input number %d is not perfect number\", g_input_num);\n",
        "    return 0;\n",
        "}"
      ],
      "execution_count": 65,
      "outputs": [
        {
          "output_type": "stream",
          "name": "stdout",
          "text": [
            "Overwriting perfect_num_checker.c\n"
          ]
        }
      ]
    },
    {
      "cell_type": "code",
      "metadata": {
        "colab": {
          "base_uri": "https://localhost:8080/"
        },
        "id": "BfvSNzpgpd6_",
        "outputId": "6d41fdd9-353a-46fe-8bd0-40f8e6e698e9"
      },
      "source": [
        "%%shell\n",
        "gcc perfect_num_checker.c -o perfect_num_checker\n",
        "./perfect_num_checker"
      ],
      "execution_count": 66,
      "outputs": [
        {
          "output_type": "stream",
          "name": "stdout",
          "text": [
            "The input number 12 is not perfect number"
          ]
        },
        {
          "output_type": "execute_result",
          "data": {
            "text/plain": [
              ""
            ]
          },
          "metadata": {},
          "execution_count": 66
        }
      ]
    },
    {
      "cell_type": "markdown",
      "metadata": {
        "id": "vLG-XEV2q-U0"
      },
      "source": [
        "Sec"
      ]
    },
    {
      "cell_type": "markdown",
      "metadata": {
        "id": "XA4_a0IWrBbx"
      },
      "source": [
        "# Array"
      ]
    },
    {
      "cell_type": "markdown",
      "metadata": {
        "id": "9v681BS9rIf7"
      },
      "source": [
        "1. Missing number in array of size n. The number entered are in sequence like 1, 2, 3, 4, 5, ....."
      ]
    },
    {
      "cell_type": "code",
      "metadata": {
        "colab": {
          "base_uri": "https://localhost:8080/"
        },
        "id": "L5bTejlnp6In",
        "outputId": "09342e72-d8d7-4abc-fcd5-c935a829aeba"
      },
      "source": [
        "%%writefile missing_num_in_array.c\n",
        "\n",
        "#include<stdio.h>\n",
        "#include<stdint.h>\n",
        "#define SIZE 10\n",
        "\n",
        "int main() {\n",
        "    uint32_t g_num_array[SIZE] = {1, 2, 3, 4, 6, 7, 8, 9, 10};\n",
        "    int g_sum = 0;\n",
        "    for(uint8_t itr = 0; itr < SIZE-1; itr++) {\n",
        "        g_sum += g_num_array[itr];\n",
        "    }\n",
        "    if(g_sum != (SIZE * (SIZE - 1)/2)){\n",
        "        printf(\"The missing number is %d\", (SIZE * (SIZE + 1)/2) - g_sum);\n",
        "    } else printf(\"All numbers are in the array\");\n",
        "  return 0;\n",
        "}"
      ],
      "execution_count": 80,
      "outputs": [
        {
          "output_type": "stream",
          "name": "stdout",
          "text": [
            "Overwriting missing_num_in_array.c\n"
          ]
        }
      ]
    },
    {
      "cell_type": "code",
      "metadata": {
        "colab": {
          "base_uri": "https://localhost:8080/"
        },
        "id": "xlFiJ-HS62h4",
        "outputId": "3acde142-03a4-4050-add4-8799289548ec"
      },
      "source": [
        "%%shell \n",
        "gcc missing_num_in_array.c -o missing_num_in_array\n",
        "./missing_num_in_array"
      ],
      "execution_count": 81,
      "outputs": [
        {
          "output_type": "stream",
          "name": "stdout",
          "text": [
            "The missing number is 5"
          ]
        },
        {
          "output_type": "execute_result",
          "data": {
            "text/plain": [
              ""
            ]
          },
          "metadata": {},
          "execution_count": 81
        }
      ]
    },
    {
      "cell_type": "code",
      "metadata": {
        "id": "IaO2NyhG7BHs"
      },
      "source": [
        ""
      ],
      "execution_count": null,
      "outputs": []
    }
  ]
}