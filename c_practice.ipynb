{
  "nbformat": 4,
  "nbformat_minor": 0,
  "metadata": {
    "colab": {
      "name": "c_practice.ipynb",
      "provenance": [],
      "collapsed_sections": [],
      "toc_visible": true,
      "authorship_tag": "ABX9TyMUzcRX9Au2gUYpiKTJvcYg",
      "include_colab_link": true
    },
    "kernelspec": {
      "name": "python3",
      "display_name": "Python 3"
    },
    "language_info": {
      "name": "python"
    }
  },
  "cells": [
    {
      "cell_type": "markdown",
      "metadata": {
        "id": "view-in-github",
        "colab_type": "text"
      },
      "source": [
        "<a href=\"https://colab.research.google.com/github/Rahul14237/C_language/blob/main/c_practice.ipynb\" target=\"_parent\"><img src=\"https://colab.research.google.com/assets/colab-badge.svg\" alt=\"Open In Colab\"/></a>"
      ]
    },
    {
      "cell_type": "markdown",
      "metadata": {
        "id": "KH_7Q_WtcPyo"
      },
      "source": [
        "C practice"
      ]
    },
    {
      "cell_type": "markdown",
      "metadata": {
        "id": "lEqy681ScRIO"
      },
      "source": [
        "1. Problem statement: Given the array nums, for each nums[i] find out how many numbers in the array are smaller than it. That is, for each nums[i] you have to count the number of valid j's such that j!=i and nums[i] < nums[i].\n",
        "Return the answer in an array.\n",
        "Input: nums = [8, 1, 2, 2, 3]\n",
        "Output: [4, 0, 1, 1, 3]\n",
        "\n"
      ]
    },
    {
      "cell_type": "code",
      "metadata": {
        "colab": {
          "base_uri": "https://localhost:8080/"
        },
        "id": "KgscbcjudeNd",
        "outputId": "b3feb49d-b01e-449b-ac49-26c2e4aaa54b"
      },
      "source": [
        "%%writefile min_num_count_array.c\n",
        "\n",
        "#include <stdio.h>\n",
        "\n",
        "int main() {\n",
        "    int g_nums[] = {8,1,2,2,3};\n",
        "    int g_nums_size = sizeof(g_nums)/sizeof(int);\n",
        "    printf(\"g_nums_size= %d\\n\", g_nums_size);\n",
        "    int g_output[g_nums_size];\n",
        "    \n",
        "    #// iterate through g_nums to get pick one value at a time\n",
        "    for(int min_count_itr = 0; min_count_itr<g_nums_size; min_count_itr++) {\n",
        "        int current_val = g_nums[min_count_itr];\n",
        "        int min_num_counter = 0;\n",
        "        #// iterate trough g_nums to compare current value with all elements in aaray except itself\n",
        "        for(int num_itr = 0; num_itr<g_nums_size; num_itr++) {\n",
        "            if(num_itr == min_count_itr) {\n",
        "                #// Do nothing\n",
        "            }\n",
        "            else if(g_nums[num_itr] < current_val) {\n",
        "                min_num_counter ++;\n",
        "            }\n",
        "            else {\n",
        "                #// Do nothing                \n",
        "            }       \n",
        "        }\n",
        "        g_output[min_count_itr] = min_num_counter;\n",
        "    }\n",
        "\n",
        "    printf(\"output = [\");\n",
        "    for(int itr=0; itr<g_nums_size; itr++) {\n",
        "        printf(\"%d \", g_output[itr]);\n",
        "    }\n",
        "    printf(\"]\");\n",
        "    return 0;\n",
        "}"
      ],
      "execution_count": 4,
      "outputs": [
        {
          "output_type": "stream",
          "name": "stdout",
          "text": [
            "Writing min_num_count_array.c\n"
          ]
        }
      ]
    },
    {
      "cell_type": "code",
      "metadata": {
        "colab": {
          "base_uri": "https://localhost:8080/"
        },
        "id": "Q7ZRnfk8ga-Q",
        "outputId": "b96a7e1f-4e61-47fc-f045-7a66fa37e3dc"
      },
      "source": [
        "ls -l # see the file"
      ],
      "execution_count": 5,
      "outputs": [
        {
          "output_type": "stream",
          "name": "stdout",
          "text": [
            "total 12\n",
            "-rw-r--r-- 1 root root 1003 Oct 13 17:25 bit_reversal.c\n",
            "-rw-r--r-- 1 root root 1076 Oct 13 17:28 min_num_count_array.c\n",
            "drwxr-xr-x 1 root root 4096 Oct  8 13:45 \u001b[0m\u001b[01;34msample_data\u001b[0m/\n"
          ]
        }
      ]
    },
    {
      "cell_type": "code",
      "metadata": {
        "colab": {
          "base_uri": "https://localhost:8080/"
        },
        "id": "XO-KZKrIglYJ",
        "outputId": "7a3bfbaf-872f-40c4-cd10-23caa132eab3"
      },
      "source": [
        "%%shell\n",
        "\n",
        "gcc min_num_count_array.c -o min_num_count_array\n",
        "./min_num_count_array"
      ],
      "execution_count": 6,
      "outputs": [
        {
          "output_type": "stream",
          "name": "stdout",
          "text": [
            "g_nums_size= 5\n",
            "output = [4 0 1 1 3 ]"
          ]
        },
        {
          "output_type": "execute_result",
          "data": {
            "text/plain": [
              ""
            ]
          },
          "metadata": {},
          "execution_count": 6
        }
      ]
    },
    {
      "cell_type": "markdown",
      "metadata": {
        "id": "Dt2K2UhojGSd"
      },
      "source": [
        "2. Bit reversal using lookup table.\n",
        "  eg. 0001 1100 --> 0011 1000"
      ]
    },
    {
      "cell_type": "code",
      "metadata": {
        "colab": {
          "base_uri": "https://localhost:8080/"
        },
        "id": "tNyUWhLUkBgz",
        "outputId": "ab776356-ce04-48ec-e1ec-bf1b3982199f"
      },
      "source": [
        "%%writefile bit_reversal.c\n",
        "\n",
        "#include<stdio.h>\n",
        "\n",
        "int main() {\n",
        "    unsigned short int g_bit_reversal_lookup[16] = {\n",
        "        0b0000,\n",
        "        0b1000,\n",
        "        0b0100,\n",
        "        0b1100,\n",
        "        0b0010,\n",
        "        0b1010,\n",
        "        0b0110,\n",
        "        0b1110,\n",
        "        0b0001,\n",
        "        0b1001,\n",
        "        0b0101,\n",
        "        0b1101,\n",
        "        0b0011,\n",
        "        0b1011,\n",
        "        0b0111,\n",
        "        0b1111 };\n",
        "\n",
        "    unsigned short int g_ori_num = 0x1234; \n",
        "    unsigned short int g_bit_rev_num = 0; /* ans: 0x2C48 */\n",
        "\n",
        "    g_bit_rev_num |= (unsigned short int)(g_bit_reversal_lookup[g_ori_num & 0x000F]) << 12;\n",
        "    # //printf(\"The reversed number is: %x\\n\", g_bit_rev_num);\n",
        "    g_bit_rev_num |= (unsigned short int)(g_bit_reversal_lookup[(g_ori_num & 0x00F0) >> 4]) << 8;\n",
        "    # //printf(\"The reversed number is: %x\\n\", g_bit_rev_num);\n",
        "    g_bit_rev_num |= (unsigned short int)(g_bit_reversal_lookup[(g_ori_num & 0x0F00) >> 8]) << 4;\n",
        "    # //printf(\"The reversed number is: %x\\n\", g_bit_rev_num);\n",
        "    g_bit_rev_num |= (unsigned short int)(g_bit_reversal_lookup[(g_ori_num & 0xF000) >> 12]);\n",
        "    printf(\"The reversed number is: %x\\n\", g_bit_rev_num);\n",
        "    return 0;\n",
        "\n",
        "}"
      ],
      "execution_count": 84,
      "outputs": [
        {
          "output_type": "stream",
          "name": "stdout",
          "text": [
            "Overwriting bit_reversal.c\n"
          ]
        }
      ]
    },
    {
      "cell_type": "code",
      "metadata": {
        "colab": {
          "base_uri": "https://localhost:8080/"
        },
        "id": "SHN0q2Jyktab",
        "outputId": "8fc3af6c-2240-4cba-aa73-3dc73d5fb430"
      },
      "source": [
        "ls -l # see the file"
      ],
      "execution_count": 85,
      "outputs": [
        {
          "output_type": "stream",
          "name": "stdout",
          "text": [
            "total 36\n",
            "-rwxr-xr-x 1 root root 8360 Oct 13 18:13 \u001b[0m\u001b[01;32mbit_reversal\u001b[0m*\n",
            "-rw-r--r-- 1 root root 1088 Oct 13 18:15 bit_reversal.c\n",
            "-rwxr-xr-x 1 root root 8416 Oct 13 17:28 \u001b[01;32mmin_num_count_array\u001b[0m*\n",
            "-rw-r--r-- 1 root root 1076 Oct 13 17:28 min_num_count_array.c\n",
            "drwxr-xr-x 1 root root 4096 Oct  8 13:45 \u001b[01;34msample_data\u001b[0m/\n"
          ]
        }
      ]
    },
    {
      "cell_type": "code",
      "metadata": {
        "colab": {
          "base_uri": "https://localhost:8080/"
        },
        "id": "Dd2qyvWksEpJ",
        "outputId": "4643536d-156f-42ad-ceb9-d88947e574a2"
      },
      "source": [
        "%%shell\n",
        "\n",
        "gcc bit_reversal.c -o bit_reversal\n",
        "./bit_reversal"
      ],
      "execution_count": 86,
      "outputs": [
        {
          "output_type": "stream",
          "name": "stdout",
          "text": [
            "The reversed number is: 2c00\n",
            "The reversed number is: 2c40\n",
            "The reversed number is: 2c48\n"
          ]
        },
        {
          "output_type": "execute_result",
          "data": {
            "text/plain": [
              ""
            ]
          },
          "metadata": {},
          "execution_count": 86
        }
      ]
    },
    {
      "cell_type": "code",
      "metadata": {
        "id": "AXD5Pj25sqwh"
      },
      "source": [
        ""
      ],
      "execution_count": null,
      "outputs": []
    }
  ]
}